{
 "cells": [
  {
   "cell_type": "markdown",
   "id": "7a1f2b8e-804f-4240-9c37-479a59f3f25e",
   "metadata": {},
   "source": [
    "## Preprocessing and Training Data"
   ]
  },
  {
   "cell_type": "markdown",
   "id": "456d561c-a68e-40da-bf97-62f4b0af01db",
   "metadata": {},
   "source": [
    "In preceding notebooks, performed preliminary assessments of data quality and refined the question to be answered. We found a small number of data values that gave clear choices about whether to replace values or drop a whole row. We determined that predicting the Fare was our primary aim. We threw away records with missing price data, but not before making the most of the other available data to look for any patterns between the airlines. We didn't see any and decided to treat all airlines equally; the year label didn't seem to be particularly useful, as well as numerical features.\n",
    "\n",
    "In this notebook we'll start to build machine learning models. Before even starting with learning a machine learning model, however, we will start by considering how useful the median value is as a predictor. We never want to go to stakeholders with a machine learning model only to have the CEO point out that it performs worse than just guessing the median! The first model is a baseline performance comparitor for any subsequent model. We then build up the process of efficiently and robustly creating and assessing models against it. "
   ]
  },
  {
   "cell_type": "markdown",
   "id": "2ddae485-828f-47b5-8c2d-dd0b58bc9f95",
   "metadata": {},
   "source": [
    "## Import and Load Data"
   ]
  },
  {
   "cell_type": "code",
   "execution_count": 4,
   "id": "72bf1abf-fb07-455f-af60-1624eac1ebbc",
   "metadata": {},
   "outputs": [],
   "source": [
    "# Import relevant libraries and packages.\n",
    "import numpy as np \n",
    "import pandas as pd \n",
    "import matplotlib.pyplot as plt \n",
    "import seaborn as sns \n",
    "from sklearn.decomposition import PCA\n",
    "from sklearn.preprocessing import scale\n",
    "from sklearn.model_selection import train_test_split, cross_validate, GridSearchCV, learning_curve\n",
    "from sklearn.preprocessing import StandardScaler, MinMaxScaler\n",
    "from sklearn.dummy import DummyRegressor\n",
    "from sklearn.linear_model import LinearRegression\n",
    "from sklearn.metrics import r2_score, mean_squared_error, mean_absolute_error\n",
    "from sklearn.pipeline import make_pipeline\n",
    "from sklearn.impute import SimpleImputer\n",
    "from sklearn.feature_selection import SelectKBest, f_regression\n",
    "from sklearn.model_selection import RandomizedSearchCV\n",
    "from sklearn.ensemble import GradientBoostingRegressor\n",
    "\n",
    "import datetime"
   ]
  },
  {
   "cell_type": "code",
   "execution_count": 5,
   "id": "acb955ec-9a23-4e2a-a0ca-5491baa3f0c7",
   "metadata": {},
   "outputs": [],
   "source": [
    "af_data = pd.read_csv('../data/airfare_data_step3_features.csv')"
   ]
  },
  {
   "cell_type": "code",
   "execution_count": 6,
   "id": "a14174ad-8748-4865-9475-5f50c0a17d17",
   "metadata": {},
   "outputs": [
    {
     "data": {
      "text/html": [
       "<div>\n",
       "<style scoped>\n",
       "    .dataframe tbody tr th:only-of-type {\n",
       "        vertical-align: middle;\n",
       "    }\n",
       "\n",
       "    .dataframe tbody tr th {\n",
       "        vertical-align: top;\n",
       "    }\n",
       "\n",
       "    .dataframe thead th {\n",
       "        text-align: right;\n",
       "    }\n",
       "</style>\n",
       "<table border=\"1\" class=\"dataframe\">\n",
       "  <thead>\n",
       "    <tr style=\"text-align: right;\">\n",
       "      <th></th>\n",
       "      <th>Date_of_journey</th>\n",
       "      <th>Journey_day</th>\n",
       "      <th>Airline</th>\n",
       "      <th>Flight_code</th>\n",
       "      <th>Class</th>\n",
       "      <th>Source</th>\n",
       "      <th>Departure</th>\n",
       "      <th>Total_stops</th>\n",
       "      <th>Arrival</th>\n",
       "      <th>Destination</th>\n",
       "      <th>Duration_in_hours</th>\n",
       "      <th>Days_left</th>\n",
       "      <th>Fare</th>\n",
       "      <th>Month</th>\n",
       "      <th>Day</th>\n",
       "      <th>Part of the month</th>\n",
       "      <th>Route</th>\n",
       "      <th>Booking_Category</th>\n",
       "    </tr>\n",
       "  </thead>\n",
       "  <tbody>\n",
       "    <tr>\n",
       "      <th>0</th>\n",
       "      <td>2023-01-16</td>\n",
       "      <td>Monday</td>\n",
       "      <td>SpiceJet</td>\n",
       "      <td>SG-8169</td>\n",
       "      <td>Economy</td>\n",
       "      <td>Delhi</td>\n",
       "      <td>After 6 PM</td>\n",
       "      <td>non-stop</td>\n",
       "      <td>After 6 PM</td>\n",
       "      <td>Mumbai</td>\n",
       "      <td>2.0833</td>\n",
       "      <td>1</td>\n",
       "      <td>5335</td>\n",
       "      <td>1</td>\n",
       "      <td>16</td>\n",
       "      <td>Middle</td>\n",
       "      <td>Delhi to Mumbai</td>\n",
       "      <td>Last-minute</td>\n",
       "    </tr>\n",
       "    <tr>\n",
       "      <th>1</th>\n",
       "      <td>2023-01-16</td>\n",
       "      <td>Monday</td>\n",
       "      <td>Indigo</td>\n",
       "      <td>6E-2519</td>\n",
       "      <td>Economy</td>\n",
       "      <td>Delhi</td>\n",
       "      <td>After 6 PM</td>\n",
       "      <td>non-stop</td>\n",
       "      <td>Before 6 AM</td>\n",
       "      <td>Mumbai</td>\n",
       "      <td>2.3333</td>\n",
       "      <td>1</td>\n",
       "      <td>5899</td>\n",
       "      <td>1</td>\n",
       "      <td>16</td>\n",
       "      <td>Middle</td>\n",
       "      <td>Delhi to Mumbai</td>\n",
       "      <td>Last-minute</td>\n",
       "    </tr>\n",
       "    <tr>\n",
       "      <th>2</th>\n",
       "      <td>2023-01-16</td>\n",
       "      <td>Monday</td>\n",
       "      <td>GO FIRST</td>\n",
       "      <td>G8-354</td>\n",
       "      <td>Economy</td>\n",
       "      <td>Delhi</td>\n",
       "      <td>After 6 PM</td>\n",
       "      <td>non-stop</td>\n",
       "      <td>Before 6 AM</td>\n",
       "      <td>Mumbai</td>\n",
       "      <td>2.1667</td>\n",
       "      <td>1</td>\n",
       "      <td>5801</td>\n",
       "      <td>1</td>\n",
       "      <td>16</td>\n",
       "      <td>Middle</td>\n",
       "      <td>Delhi to Mumbai</td>\n",
       "      <td>Last-minute</td>\n",
       "    </tr>\n",
       "    <tr>\n",
       "      <th>3</th>\n",
       "      <td>2023-01-16</td>\n",
       "      <td>Monday</td>\n",
       "      <td>SpiceJet</td>\n",
       "      <td>SG-8709</td>\n",
       "      <td>Economy</td>\n",
       "      <td>Delhi</td>\n",
       "      <td>After 6 PM</td>\n",
       "      <td>non-stop</td>\n",
       "      <td>After 6 PM</td>\n",
       "      <td>Mumbai</td>\n",
       "      <td>2.0833</td>\n",
       "      <td>1</td>\n",
       "      <td>5794</td>\n",
       "      <td>1</td>\n",
       "      <td>16</td>\n",
       "      <td>Middle</td>\n",
       "      <td>Delhi to Mumbai</td>\n",
       "      <td>Last-minute</td>\n",
       "    </tr>\n",
       "    <tr>\n",
       "      <th>4</th>\n",
       "      <td>2023-01-16</td>\n",
       "      <td>Monday</td>\n",
       "      <td>Air India</td>\n",
       "      <td>AI-805</td>\n",
       "      <td>Economy</td>\n",
       "      <td>Delhi</td>\n",
       "      <td>After 6 PM</td>\n",
       "      <td>non-stop</td>\n",
       "      <td>After 6 PM</td>\n",
       "      <td>Mumbai</td>\n",
       "      <td>2.1667</td>\n",
       "      <td>1</td>\n",
       "      <td>5955</td>\n",
       "      <td>1</td>\n",
       "      <td>16</td>\n",
       "      <td>Middle</td>\n",
       "      <td>Delhi to Mumbai</td>\n",
       "      <td>Last-minute</td>\n",
       "    </tr>\n",
       "  </tbody>\n",
       "</table>\n",
       "</div>"
      ],
      "text/plain": [
       "  Date_of_journey Journey_day    Airline Flight_code    Class Source  \\\n",
       "0      2023-01-16      Monday   SpiceJet     SG-8169  Economy  Delhi   \n",
       "1      2023-01-16      Monday     Indigo     6E-2519  Economy  Delhi   \n",
       "2      2023-01-16      Monday   GO FIRST      G8-354  Economy  Delhi   \n",
       "3      2023-01-16      Monday   SpiceJet     SG-8709  Economy  Delhi   \n",
       "4      2023-01-16      Monday  Air India      AI-805  Economy  Delhi   \n",
       "\n",
       "    Departure Total_stops      Arrival Destination  Duration_in_hours  \\\n",
       "0  After 6 PM    non-stop   After 6 PM      Mumbai             2.0833   \n",
       "1  After 6 PM    non-stop  Before 6 AM      Mumbai             2.3333   \n",
       "2  After 6 PM    non-stop  Before 6 AM      Mumbai             2.1667   \n",
       "3  After 6 PM    non-stop   After 6 PM      Mumbai             2.0833   \n",
       "4  After 6 PM    non-stop   After 6 PM      Mumbai             2.1667   \n",
       "\n",
       "   Days_left  Fare  Month  Day Part of the month            Route  \\\n",
       "0          1  5335      1   16            Middle  Delhi to Mumbai   \n",
       "1          1  5899      1   16            Middle  Delhi to Mumbai   \n",
       "2          1  5801      1   16            Middle  Delhi to Mumbai   \n",
       "3          1  5794      1   16            Middle  Delhi to Mumbai   \n",
       "4          1  5955      1   16            Middle  Delhi to Mumbai   \n",
       "\n",
       "  Booking_Category  \n",
       "0      Last-minute  \n",
       "1      Last-minute  \n",
       "2      Last-minute  \n",
       "3      Last-minute  \n",
       "4      Last-minute  "
      ]
     },
     "execution_count": 6,
     "metadata": {},
     "output_type": "execute_result"
    }
   ],
   "source": [
    "af_data.head()"
   ]
  },
  {
   "cell_type": "code",
   "execution_count": 7,
   "id": "8052e8a0-e400-47bf-83db-67896be503a0",
   "metadata": {},
   "outputs": [
    {
     "data": {
      "text/plain": [
       "(445366, 18)"
      ]
     },
     "execution_count": 7,
     "metadata": {},
     "output_type": "execute_result"
    }
   ],
   "source": [
    "af_data.shape"
   ]
  },
  {
   "cell_type": "code",
   "execution_count": 8,
   "id": "6208e96a-3610-4ca3-b14a-0cba6fa9b4a0",
   "metadata": {},
   "outputs": [
    {
     "data": {
      "text/plain": [
       "Date_of_journey       object\n",
       "Journey_day           object\n",
       "Airline               object\n",
       "Flight_code           object\n",
       "Class                 object\n",
       "Source                object\n",
       "Departure             object\n",
       "Total_stops           object\n",
       "Arrival               object\n",
       "Destination           object\n",
       "Duration_in_hours    float64\n",
       "Days_left              int64\n",
       "Fare                   int64\n",
       "Month                  int64\n",
       "Day                    int64\n",
       "Part of the month     object\n",
       "Route                 object\n",
       "Booking_Category      object\n",
       "dtype: object"
      ]
     },
     "execution_count": 8,
     "metadata": {},
     "output_type": "execute_result"
    }
   ],
   "source": [
    "af_data.dtypes"
   ]
  },
  {
   "cell_type": "markdown",
   "id": "9b3104a2-6a27-44fc-ae1b-ad76ca32670d",
   "metadata": {},
   "source": [
    "## Encoding"
   ]
  },
  {
   "cell_type": "code",
   "execution_count": 10,
   "id": "b4b8e7f9-1d91-4637-9dfd-438462ccdd5b",
   "metadata": {},
   "outputs": [],
   "source": [
    "cat_data = af_data[['Journey_day','Airline','Class','Total_stops','Arrival','Departure','Part of the month','Route','Booking_Category']]"
   ]
  },
  {
   "cell_type": "code",
   "execution_count": 11,
   "id": "30bcdcd6-1d34-4ef9-91a6-d605e465795f",
   "metadata": {},
   "outputs": [
    {
     "name": "stdout",
     "output_type": "stream",
     "text": [
      "(445366, 68)\n"
     ]
    }
   ],
   "source": [
    "encoded = pd.get_dummies(cat_data, drop_first=True)\n",
    "\n",
    "print(encoded.shape)"
   ]
  },
  {
   "cell_type": "markdown",
   "id": "02e24d30-173d-4bcf-8c79-f2e24acb6422",
   "metadata": {},
   "source": [
    "## Train/test split"
   ]
  },
  {
   "cell_type": "code",
   "execution_count": 13,
   "id": "bc12f191-7b36-45ce-a5d1-20ae2db6b61b",
   "metadata": {},
   "outputs": [
    {
     "name": "stdout",
     "output_type": "stream",
     "text": [
      "(311756, 68) (133610, 68) (311756,) (133610,)\n"
     ]
    }
   ],
   "source": [
    "X_train, X_test, y_train, y_test = train_test_split(encoded, af_data['Fare'], test_size=0.3, random_state = 47)\n",
    "\n",
    "print(X_train.shape, X_test.shape, y_train.shape, y_test.shape)"
   ]
  },
  {
   "cell_type": "markdown",
   "id": "b68615bf-a05a-49a4-bbb7-a9928bcd5002",
   "metadata": {},
   "source": [
    "Since all our X values were converted to binary values via dummy encoding then no scaling is needed."
   ]
  },
  {
   "cell_type": "code",
   "execution_count": 14,
   "id": "6e355dc6-f668-400a-aedf-75b7a70f24ba",
   "metadata": {},
   "outputs": [
    {
     "data": {
      "text/plain": [
       "13379.0"
      ]
     },
     "execution_count": 14,
     "metadata": {},
     "output_type": "execute_result"
    }
   ],
   "source": [
    "train_median = y_train.median()\n",
    "train_median"
   ]
  },
  {
   "cell_type": "code",
   "execution_count": 15,
   "id": "f34dda08-981c-46ef-92cd-a056a98a665f",
   "metadata": {},
   "outputs": [
    {
     "data": {
      "text/plain": [
       "array([[13379.]])"
      ]
     },
     "execution_count": 15,
     "metadata": {},
     "output_type": "execute_result"
    }
   ],
   "source": [
    "dumb_reg = DummyRegressor(strategy='median')\n",
    "dumb_reg.fit(X_train, y_train)\n",
    "dumb_reg.constant_"
   ]
  },
  {
   "cell_type": "markdown",
   "id": "6964515d-9f19-44bd-96ea-88f66d8fb07a",
   "metadata": {},
   "source": [
    "We use the median here instead of the mean because our dataset has many outliers due to the natural price variation in airfare. We can also see that the medians are the same here. "
   ]
  },
  {
   "cell_type": "code",
   "execution_count": 17,
   "id": "ab36f047-1376-4724-a4d3-7801502b8746",
   "metadata": {},
   "outputs": [],
   "source": [
    "#Calculate the R^2\n",
    "def r_squared(y, ypred):\n",
    "    \"\"\"R-squared score.\n",
    "    \n",
    "    Calculate the R-squared, or coefficient of determination, of the input.\n",
    "    \n",
    "    Arguments:\n",
    "    y -- the observed values\n",
    "    ypred -- the predicted values\n",
    "    \"\"\"\n",
    "    ybar = np.sum(y) / len(y) #yes, we could use np.mean(y)\n",
    "    sum_sq_tot = np.sum((y - ybar)**2) #total sum of squares error\n",
    "    sum_sq_res = np.sum((y - ypred)**2) #residual sum of squares error\n",
    "    R2 = 1.0 - sum_sq_res / sum_sq_tot\n",
    "    return R2"
   ]
  },
  {
   "cell_type": "code",
   "execution_count": 18,
   "id": "70a135a2-0a59-4787-ad5d-5fbb49d9294d",
   "metadata": {},
   "outputs": [
    {
     "data": {
      "text/plain": [
       "array([13379., 13379., 13379., 13379., 13379.])"
      ]
     },
     "execution_count": 18,
     "metadata": {},
     "output_type": "execute_result"
    }
   ],
   "source": [
    "y_tr_pred_ = train_median * np.ones(len(y_train))\n",
    "y_tr_pred_[:5]"
   ]
  },
  {
   "cell_type": "code",
   "execution_count": 19,
   "id": "a5f8391c-3d44-4da8-900f-ebdad90fda3f",
   "metadata": {},
   "outputs": [
    {
     "data": {
      "text/plain": [
       "array([13379., 13379., 13379., 13379., 13379.])"
      ]
     },
     "execution_count": 19,
     "metadata": {},
     "output_type": "execute_result"
    }
   ],
   "source": [
    "y_tr_pred = dumb_reg.predict(X_train)\n",
    "y_tr_pred[:5]"
   ]
  },
  {
   "cell_type": "markdown",
   "id": "9619cbd8-b27a-4a39-9983-ec4fe2f12f3a",
   "metadata": {},
   "source": [
    "You can see that `DummyRegressor` produces exactly the same results and saves you having to mess about broadcasting the mean to an array of the appropriate length. "
   ]
  },
  {
   "cell_type": "code",
   "execution_count": 21,
   "id": "942aef92-133d-4295-89e8-f51adcd21437",
   "metadata": {},
   "outputs": [
    {
     "data": {
      "text/plain": [
       "-0.219546611318151"
      ]
     },
     "execution_count": 21,
     "metadata": {},
     "output_type": "execute_result"
    }
   ],
   "source": [
    "r_squared(y_train, y_tr_pred)"
   ]
  },
  {
   "cell_type": "markdown",
   "id": "85e1ed5f-73c8-4dfa-8c1a-7378401a3e20",
   "metadata": {},
   "source": [
    "Out target variable has extreme outliers or an unusual distribution, the dummy regressor predictions might be far from most of the true values."
   ]
  },
  {
   "cell_type": "code",
   "execution_count": 23,
   "id": "4447d58d-66dd-40b6-9b4d-57818a6e8e67",
   "metadata": {},
   "outputs": [
    {
     "data": {
      "text/plain": [
       "-0.21724301667885637"
      ]
     },
     "execution_count": 23,
     "metadata": {},
     "output_type": "execute_result"
    }
   ],
   "source": [
    "y_te_pred = train_median * np.ones(len(y_test))\n",
    "r_squared(y_test, y_te_pred)"
   ]
  },
  {
   "cell_type": "code",
   "execution_count": 24,
   "id": "842dc62f-0b05-46d1-b513-24cd7821df5b",
   "metadata": {},
   "outputs": [],
   "source": [
    "#Calculate the MAE\n",
    "def mae(y, ypred):\n",
    "    \"\"\"Mean absolute error.\n",
    "    \n",
    "    Calculate the mean absolute error of the arguments\n",
    "\n",
    "    Arguments:\n",
    "    y -- the observed values\n",
    "    ypred -- the predicted values\n",
    "    \"\"\"\n",
    "    abs_error = np.abs(y - ypred)\n",
    "    mae = np.mean(abs_error)\n",
    "    return mae"
   ]
  },
  {
   "cell_type": "code",
   "execution_count": 25,
   "id": "f5e27cf1-d410-4384-ab0e-c3e2bba639a7",
   "metadata": {},
   "outputs": [
    {
     "data": {
      "text/plain": [
       "14288.593877904515"
      ]
     },
     "execution_count": 25,
     "metadata": {},
     "output_type": "execute_result"
    }
   ],
   "source": [
    "mae(y_train, y_tr_pred)"
   ]
  },
  {
   "cell_type": "code",
   "execution_count": 26,
   "id": "8c2b17a1-5238-4a15-b223-ce0e651146a6",
   "metadata": {},
   "outputs": [
    {
     "data": {
      "text/plain": [
       "14272.575892523015"
      ]
     },
     "execution_count": 26,
     "metadata": {},
     "output_type": "execute_result"
    }
   ],
   "source": [
    "mae(y_test, y_te_pred)"
   ]
  },
  {
   "cell_type": "markdown",
   "id": "1c57df35-3d1d-48af-a7fd-f0b8d9a66eb9",
   "metadata": {},
   "source": [
    "Mean absolute error is arguably the most intuitive of all the metrics, this essentially tells you that, on average, you might expect to be off by around 14273 rupies if you guessed ticket price based on an average of known values."
   ]
  },
  {
   "cell_type": "code",
   "execution_count": 28,
   "id": "9427b61d-d5ab-411d-8f31-e9295ecfde8b",
   "metadata": {},
   "outputs": [],
   "source": [
    "#Calculate the MSE which tells us how close a regression line is to a set of data points\n",
    "# a good model will have an MSE closer to 0, indicating a better goodness of fit to the data\n",
    "def mse(y, ypred):\n",
    "    \"\"\"Mean square error.\n",
    "    \n",
    "    Calculate the mean square error of the arguments\n",
    "\n",
    "    Arguments:\n",
    "    y -- the observed values\n",
    "    ypred -- the predicted values\n",
    "    \"\"\"\n",
    "    sq_error = (y - ypred)**2\n",
    "    mse = np.mean(sq_error)\n",
    "    return mse"
   ]
  },
  {
   "cell_type": "code",
   "execution_count": 29,
   "id": "c4e92f9a-9e49-4c9f-a6ad-0d7e94d66cf3",
   "metadata": {},
   "outputs": [
    {
     "data": {
      "text/plain": [
       "506460342.9632052"
      ]
     },
     "execution_count": 29,
     "metadata": {},
     "output_type": "execute_result"
    }
   ],
   "source": [
    "mse(y_train, y_tr_pred)"
   ]
  },
  {
   "cell_type": "code",
   "execution_count": 30,
   "id": "6c972ff5-a64b-40f4-ad3c-a222c1d92592",
   "metadata": {},
   "outputs": [
    {
     "data": {
      "text/plain": [
       "508088826.89703614"
      ]
     },
     "execution_count": 30,
     "metadata": {},
     "output_type": "execute_result"
    }
   ],
   "source": [
    "mse(y_test, y_te_pred)"
   ]
  },
  {
   "cell_type": "markdown",
   "id": "c501b10d-f14d-4d6f-9e3e-8041ab770c91",
   "metadata": {},
   "source": [
    "Woah that does not look right. The MSE is very high this is probably due to the outliers in the data, we will have to rely on more robust metrics for this model such as MAE."
   ]
  },
  {
   "cell_type": "code",
   "execution_count": 32,
   "id": "ee680854-f63b-4fb5-8ca6-c416bf2b656b",
   "metadata": {},
   "outputs": [
    {
     "data": {
      "text/plain": [
       "array([22504.67380264, 22540.82578117])"
      ]
     },
     "execution_count": 32,
     "metadata": {},
     "output_type": "execute_result"
    }
   ],
   "source": [
    "np.sqrt([mse(y_train, y_tr_pred), mse(y_test, y_te_pred)])"
   ]
  },
  {
   "cell_type": "code",
   "execution_count": 33,
   "id": "a3238bf4-2a75-4220-9241-5bb978119b70",
   "metadata": {},
   "outputs": [
    {
     "data": {
      "text/plain": [
       "(-0.219546611318151, -0.21724301667885637)"
      ]
     },
     "execution_count": 33,
     "metadata": {},
     "output_type": "execute_result"
    }
   ],
   "source": [
    "r2_score(y_train, y_tr_pred), r2_score(y_test, y_te_pred)"
   ]
  },
  {
   "cell_type": "code",
   "execution_count": 34,
   "id": "98faf5df-7a09-4760-9a76-4f408b8e79a5",
   "metadata": {},
   "outputs": [
    {
     "data": {
      "text/plain": [
       "(14288.593877904515, 14272.575892523015)"
      ]
     },
     "execution_count": 34,
     "metadata": {},
     "output_type": "execute_result"
    }
   ],
   "source": [
    "mean_absolute_error(y_train, y_tr_pred), mean_absolute_error(y_test, y_te_pred)"
   ]
  },
  {
   "cell_type": "code",
   "execution_count": 35,
   "id": "77cbfb0c-3642-444a-b7cc-c448f244b5be",
   "metadata": {},
   "outputs": [
    {
     "data": {
      "text/plain": [
       "(506460342.9632052, 508088826.89703614)"
      ]
     },
     "execution_count": 35,
     "metadata": {},
     "output_type": "execute_result"
    }
   ],
   "source": [
    "mean_squared_error(y_train, y_tr_pred), mean_squared_error(y_test, y_te_pred)"
   ]
  },
  {
   "cell_type": "markdown",
   "id": "7c9780a5-7b8a-4b7b-8f97-5269ee97e245",
   "metadata": {},
   "source": [
    "## Initial modeling"
   ]
  },
  {
   "cell_type": "code",
   "execution_count": 37,
   "id": "e4115c6e-1744-4cd0-ac31-c61355a9dec7",
   "metadata": {},
   "outputs": [],
   "source": [
    "lm = LinearRegression().fit(X_train, y_train)"
   ]
  },
  {
   "cell_type": "code",
   "execution_count": 38,
   "id": "d2ef2023-e478-44ab-b6b8-f15df8a994af",
   "metadata": {},
   "outputs": [],
   "source": [
    "y_tr_pred = lm.predict(X_train)\n",
    "y_te_pred = lm.predict(X_test)"
   ]
  },
  {
   "cell_type": "code",
   "execution_count": 39,
   "id": "26edc46a-bfc2-41bf-b126-3f6105101bfa",
   "metadata": {},
   "outputs": [
    {
     "data": {
      "text/plain": [
       "(0.559501404915121, 0.5593245551142745)"
      ]
     },
     "execution_count": 39,
     "metadata": {},
     "output_type": "execute_result"
    }
   ],
   "source": [
    "median_r2 = r2_score(y_train, y_tr_pred), r2_score(y_test, y_te_pred)\n",
    "median_r2"
   ]
  },
  {
   "cell_type": "markdown",
   "id": "4ece141f-8cdc-4b75-9195-268c245d704c",
   "metadata": {},
   "source": [
    "Recall that we estimated ticket price by simply using a known median. As expected, this produced a negative $R^2$ value for both the training and test set, because $R^2$ tells us how much of the variance you're explaining beyond that of using just the median, and you were using just the median. Here we see that our simple linear regression model explains about 56% of the variance on the train set and about 56% on the test set. Clearly we are onto something. This suggests our model is moderately effective and since the train and test set $R^2$ value are close then the model generalizes well.  "
   ]
  },
  {
   "cell_type": "code",
   "execution_count": 40,
   "id": "ab1cb09e-ec64-4916-8d6e-cc52a025c63f",
   "metadata": {},
   "outputs": [
    {
     "data": {
      "text/plain": [
       "(9424.443955553827, 9430.621712607834)"
      ]
     },
     "execution_count": 40,
     "metadata": {},
     "output_type": "execute_result"
    }
   ],
   "source": [
    "median_mae = mean_absolute_error(y_train, y_tr_pred), mean_absolute_error(y_test, y_te_pred)\n",
    "median_mae"
   ]
  },
  {
   "cell_type": "markdown",
   "id": "a4cd22c3-3498-4c8f-8662-727d67c04ff2",
   "metadata": {},
   "source": [
    "Using this model, then, on average you'd expect to estimate airfare within 9430 rupies or so of the real price. This is not the best prediction, maybe with more hyperparameter tuning or even a different model we can get a better prediction."
   ]
  },
  {
   "cell_type": "code",
   "execution_count": 41,
   "id": "1d7b4319-3792-4bfa-bd3e-00b530b891ef",
   "metadata": {},
   "outputs": [
    {
     "data": {
      "text/plain": [
       "(182932794.42625386, 183942127.22223377)"
      ]
     },
     "execution_count": 41,
     "metadata": {},
     "output_type": "execute_result"
    }
   ],
   "source": [
    "median_mse = mean_squared_error(y_train, y_tr_pred), mean_squared_error(y_test, y_te_pred)\n",
    "median_mse"
   ]
  },
  {
   "cell_type": "markdown",
   "id": "8b0ce0ca-9ba8-4172-b05d-5d2cf9687f8d",
   "metadata": {},
   "source": [
    "These results don't seem very different to when we used the median. Perhaps it doesn't make much difference here. Maybe other feature transformations, such as taking the log, would help. "
   ]
  },
  {
   "cell_type": "markdown",
   "id": "9c8d37d6-e08a-40a3-9244-7be989514e54",
   "metadata": {},
   "source": [
    "## Pipelines"
   ]
  },
  {
   "cell_type": "markdown",
   "id": "79658f57-a997-4061-be15-5652897c9cd0",
   "metadata": {},
   "source": [
    "Now we want to use cross-validation for multiple values of k and use cross-validation to pick the value of k that gives the best performance. `make_pipeline` automatically names each step as the lowercase name of the step and the parameters of the step are then accessed by appending a double underscore followed by the parameter name. We know the name of the step will be 'selectkbest' and we know the parameter is 'k'."
   ]
  },
  {
   "cell_type": "code",
   "execution_count": 42,
   "id": "c262fd20-9437-4657-a3df-fd1e6d32f459",
   "metadata": {},
   "outputs": [],
   "source": [
    "pipe = make_pipeline(\n",
    "    SimpleImputer(strategy='median'),\n",
    "    LinearRegression()\n",
    ")"
   ]
  },
  {
   "cell_type": "code",
   "execution_count": 43,
   "id": "0faece90-557d-47e0-b88e-a4e397807f86",
   "metadata": {},
   "outputs": [
    {
     "data": {
      "text/html": [
       "<style>#sk-container-id-1 {\n",
       "  /* Definition of color scheme common for light and dark mode */\n",
       "  --sklearn-color-text: #000;\n",
       "  --sklearn-color-text-muted: #666;\n",
       "  --sklearn-color-line: gray;\n",
       "  /* Definition of color scheme for unfitted estimators */\n",
       "  --sklearn-color-unfitted-level-0: #fff5e6;\n",
       "  --sklearn-color-unfitted-level-1: #f6e4d2;\n",
       "  --sklearn-color-unfitted-level-2: #ffe0b3;\n",
       "  --sklearn-color-unfitted-level-3: chocolate;\n",
       "  /* Definition of color scheme for fitted estimators */\n",
       "  --sklearn-color-fitted-level-0: #f0f8ff;\n",
       "  --sklearn-color-fitted-level-1: #d4ebff;\n",
       "  --sklearn-color-fitted-level-2: #b3dbfd;\n",
       "  --sklearn-color-fitted-level-3: cornflowerblue;\n",
       "\n",
       "  /* Specific color for light theme */\n",
       "  --sklearn-color-text-on-default-background: var(--sg-text-color, var(--theme-code-foreground, var(--jp-content-font-color1, black)));\n",
       "  --sklearn-color-background: var(--sg-background-color, var(--theme-background, var(--jp-layout-color0, white)));\n",
       "  --sklearn-color-border-box: var(--sg-text-color, var(--theme-code-foreground, var(--jp-content-font-color1, black)));\n",
       "  --sklearn-color-icon: #696969;\n",
       "\n",
       "  @media (prefers-color-scheme: dark) {\n",
       "    /* Redefinition of color scheme for dark theme */\n",
       "    --sklearn-color-text-on-default-background: var(--sg-text-color, var(--theme-code-foreground, var(--jp-content-font-color1, white)));\n",
       "    --sklearn-color-background: var(--sg-background-color, var(--theme-background, var(--jp-layout-color0, #111)));\n",
       "    --sklearn-color-border-box: var(--sg-text-color, var(--theme-code-foreground, var(--jp-content-font-color1, white)));\n",
       "    --sklearn-color-icon: #878787;\n",
       "  }\n",
       "}\n",
       "\n",
       "#sk-container-id-1 {\n",
       "  color: var(--sklearn-color-text);\n",
       "}\n",
       "\n",
       "#sk-container-id-1 pre {\n",
       "  padding: 0;\n",
       "}\n",
       "\n",
       "#sk-container-id-1 input.sk-hidden--visually {\n",
       "  border: 0;\n",
       "  clip: rect(1px 1px 1px 1px);\n",
       "  clip: rect(1px, 1px, 1px, 1px);\n",
       "  height: 1px;\n",
       "  margin: -1px;\n",
       "  overflow: hidden;\n",
       "  padding: 0;\n",
       "  position: absolute;\n",
       "  width: 1px;\n",
       "}\n",
       "\n",
       "#sk-container-id-1 div.sk-dashed-wrapped {\n",
       "  border: 1px dashed var(--sklearn-color-line);\n",
       "  margin: 0 0.4em 0.5em 0.4em;\n",
       "  box-sizing: border-box;\n",
       "  padding-bottom: 0.4em;\n",
       "  background-color: var(--sklearn-color-background);\n",
       "}\n",
       "\n",
       "#sk-container-id-1 div.sk-container {\n",
       "  /* jupyter's `normalize.less` sets `[hidden] { display: none; }`\n",
       "     but bootstrap.min.css set `[hidden] { display: none !important; }`\n",
       "     so we also need the `!important` here to be able to override the\n",
       "     default hidden behavior on the sphinx rendered scikit-learn.org.\n",
       "     See: https://github.com/scikit-learn/scikit-learn/issues/21755 */\n",
       "  display: inline-block !important;\n",
       "  position: relative;\n",
       "}\n",
       "\n",
       "#sk-container-id-1 div.sk-text-repr-fallback {\n",
       "  display: none;\n",
       "}\n",
       "\n",
       "div.sk-parallel-item,\n",
       "div.sk-serial,\n",
       "div.sk-item {\n",
       "  /* draw centered vertical line to link estimators */\n",
       "  background-image: linear-gradient(var(--sklearn-color-text-on-default-background), var(--sklearn-color-text-on-default-background));\n",
       "  background-size: 2px 100%;\n",
       "  background-repeat: no-repeat;\n",
       "  background-position: center center;\n",
       "}\n",
       "\n",
       "/* Parallel-specific style estimator block */\n",
       "\n",
       "#sk-container-id-1 div.sk-parallel-item::after {\n",
       "  content: \"\";\n",
       "  width: 100%;\n",
       "  border-bottom: 2px solid var(--sklearn-color-text-on-default-background);\n",
       "  flex-grow: 1;\n",
       "}\n",
       "\n",
       "#sk-container-id-1 div.sk-parallel {\n",
       "  display: flex;\n",
       "  align-items: stretch;\n",
       "  justify-content: center;\n",
       "  background-color: var(--sklearn-color-background);\n",
       "  position: relative;\n",
       "}\n",
       "\n",
       "#sk-container-id-1 div.sk-parallel-item {\n",
       "  display: flex;\n",
       "  flex-direction: column;\n",
       "}\n",
       "\n",
       "#sk-container-id-1 div.sk-parallel-item:first-child::after {\n",
       "  align-self: flex-end;\n",
       "  width: 50%;\n",
       "}\n",
       "\n",
       "#sk-container-id-1 div.sk-parallel-item:last-child::after {\n",
       "  align-self: flex-start;\n",
       "  width: 50%;\n",
       "}\n",
       "\n",
       "#sk-container-id-1 div.sk-parallel-item:only-child::after {\n",
       "  width: 0;\n",
       "}\n",
       "\n",
       "/* Serial-specific style estimator block */\n",
       "\n",
       "#sk-container-id-1 div.sk-serial {\n",
       "  display: flex;\n",
       "  flex-direction: column;\n",
       "  align-items: center;\n",
       "  background-color: var(--sklearn-color-background);\n",
       "  padding-right: 1em;\n",
       "  padding-left: 1em;\n",
       "}\n",
       "\n",
       "\n",
       "/* Toggleable style: style used for estimator/Pipeline/ColumnTransformer box that is\n",
       "clickable and can be expanded/collapsed.\n",
       "- Pipeline and ColumnTransformer use this feature and define the default style\n",
       "- Estimators will overwrite some part of the style using the `sk-estimator` class\n",
       "*/\n",
       "\n",
       "/* Pipeline and ColumnTransformer style (default) */\n",
       "\n",
       "#sk-container-id-1 div.sk-toggleable {\n",
       "  /* Default theme specific background. It is overwritten whether we have a\n",
       "  specific estimator or a Pipeline/ColumnTransformer */\n",
       "  background-color: var(--sklearn-color-background);\n",
       "}\n",
       "\n",
       "/* Toggleable label */\n",
       "#sk-container-id-1 label.sk-toggleable__label {\n",
       "  cursor: pointer;\n",
       "  display: flex;\n",
       "  width: 100%;\n",
       "  margin-bottom: 0;\n",
       "  padding: 0.5em;\n",
       "  box-sizing: border-box;\n",
       "  text-align: center;\n",
       "  align-items: start;\n",
       "  justify-content: space-between;\n",
       "  gap: 0.5em;\n",
       "}\n",
       "\n",
       "#sk-container-id-1 label.sk-toggleable__label .caption {\n",
       "  font-size: 0.6rem;\n",
       "  font-weight: lighter;\n",
       "  color: var(--sklearn-color-text-muted);\n",
       "}\n",
       "\n",
       "#sk-container-id-1 label.sk-toggleable__label-arrow:before {\n",
       "  /* Arrow on the left of the label */\n",
       "  content: \"▸\";\n",
       "  float: left;\n",
       "  margin-right: 0.25em;\n",
       "  color: var(--sklearn-color-icon);\n",
       "}\n",
       "\n",
       "#sk-container-id-1 label.sk-toggleable__label-arrow:hover:before {\n",
       "  color: var(--sklearn-color-text);\n",
       "}\n",
       "\n",
       "/* Toggleable content - dropdown */\n",
       "\n",
       "#sk-container-id-1 div.sk-toggleable__content {\n",
       "  max-height: 0;\n",
       "  max-width: 0;\n",
       "  overflow: hidden;\n",
       "  text-align: left;\n",
       "  /* unfitted */\n",
       "  background-color: var(--sklearn-color-unfitted-level-0);\n",
       "}\n",
       "\n",
       "#sk-container-id-1 div.sk-toggleable__content.fitted {\n",
       "  /* fitted */\n",
       "  background-color: var(--sklearn-color-fitted-level-0);\n",
       "}\n",
       "\n",
       "#sk-container-id-1 div.sk-toggleable__content pre {\n",
       "  margin: 0.2em;\n",
       "  border-radius: 0.25em;\n",
       "  color: var(--sklearn-color-text);\n",
       "  /* unfitted */\n",
       "  background-color: var(--sklearn-color-unfitted-level-0);\n",
       "}\n",
       "\n",
       "#sk-container-id-1 div.sk-toggleable__content.fitted pre {\n",
       "  /* unfitted */\n",
       "  background-color: var(--sklearn-color-fitted-level-0);\n",
       "}\n",
       "\n",
       "#sk-container-id-1 input.sk-toggleable__control:checked~div.sk-toggleable__content {\n",
       "  /* Expand drop-down */\n",
       "  max-height: 200px;\n",
       "  max-width: 100%;\n",
       "  overflow: auto;\n",
       "}\n",
       "\n",
       "#sk-container-id-1 input.sk-toggleable__control:checked~label.sk-toggleable__label-arrow:before {\n",
       "  content: \"▾\";\n",
       "}\n",
       "\n",
       "/* Pipeline/ColumnTransformer-specific style */\n",
       "\n",
       "#sk-container-id-1 div.sk-label input.sk-toggleable__control:checked~label.sk-toggleable__label {\n",
       "  color: var(--sklearn-color-text);\n",
       "  background-color: var(--sklearn-color-unfitted-level-2);\n",
       "}\n",
       "\n",
       "#sk-container-id-1 div.sk-label.fitted input.sk-toggleable__control:checked~label.sk-toggleable__label {\n",
       "  background-color: var(--sklearn-color-fitted-level-2);\n",
       "}\n",
       "\n",
       "/* Estimator-specific style */\n",
       "\n",
       "/* Colorize estimator box */\n",
       "#sk-container-id-1 div.sk-estimator input.sk-toggleable__control:checked~label.sk-toggleable__label {\n",
       "  /* unfitted */\n",
       "  background-color: var(--sklearn-color-unfitted-level-2);\n",
       "}\n",
       "\n",
       "#sk-container-id-1 div.sk-estimator.fitted input.sk-toggleable__control:checked~label.sk-toggleable__label {\n",
       "  /* fitted */\n",
       "  background-color: var(--sklearn-color-fitted-level-2);\n",
       "}\n",
       "\n",
       "#sk-container-id-1 div.sk-label label.sk-toggleable__label,\n",
       "#sk-container-id-1 div.sk-label label {\n",
       "  /* The background is the default theme color */\n",
       "  color: var(--sklearn-color-text-on-default-background);\n",
       "}\n",
       "\n",
       "/* On hover, darken the color of the background */\n",
       "#sk-container-id-1 div.sk-label:hover label.sk-toggleable__label {\n",
       "  color: var(--sklearn-color-text);\n",
       "  background-color: var(--sklearn-color-unfitted-level-2);\n",
       "}\n",
       "\n",
       "/* Label box, darken color on hover, fitted */\n",
       "#sk-container-id-1 div.sk-label.fitted:hover label.sk-toggleable__label.fitted {\n",
       "  color: var(--sklearn-color-text);\n",
       "  background-color: var(--sklearn-color-fitted-level-2);\n",
       "}\n",
       "\n",
       "/* Estimator label */\n",
       "\n",
       "#sk-container-id-1 div.sk-label label {\n",
       "  font-family: monospace;\n",
       "  font-weight: bold;\n",
       "  display: inline-block;\n",
       "  line-height: 1.2em;\n",
       "}\n",
       "\n",
       "#sk-container-id-1 div.sk-label-container {\n",
       "  text-align: center;\n",
       "}\n",
       "\n",
       "/* Estimator-specific */\n",
       "#sk-container-id-1 div.sk-estimator {\n",
       "  font-family: monospace;\n",
       "  border: 1px dotted var(--sklearn-color-border-box);\n",
       "  border-radius: 0.25em;\n",
       "  box-sizing: border-box;\n",
       "  margin-bottom: 0.5em;\n",
       "  /* unfitted */\n",
       "  background-color: var(--sklearn-color-unfitted-level-0);\n",
       "}\n",
       "\n",
       "#sk-container-id-1 div.sk-estimator.fitted {\n",
       "  /* fitted */\n",
       "  background-color: var(--sklearn-color-fitted-level-0);\n",
       "}\n",
       "\n",
       "/* on hover */\n",
       "#sk-container-id-1 div.sk-estimator:hover {\n",
       "  /* unfitted */\n",
       "  background-color: var(--sklearn-color-unfitted-level-2);\n",
       "}\n",
       "\n",
       "#sk-container-id-1 div.sk-estimator.fitted:hover {\n",
       "  /* fitted */\n",
       "  background-color: var(--sklearn-color-fitted-level-2);\n",
       "}\n",
       "\n",
       "/* Specification for estimator info (e.g. \"i\" and \"?\") */\n",
       "\n",
       "/* Common style for \"i\" and \"?\" */\n",
       "\n",
       ".sk-estimator-doc-link,\n",
       "a:link.sk-estimator-doc-link,\n",
       "a:visited.sk-estimator-doc-link {\n",
       "  float: right;\n",
       "  font-size: smaller;\n",
       "  line-height: 1em;\n",
       "  font-family: monospace;\n",
       "  background-color: var(--sklearn-color-background);\n",
       "  border-radius: 1em;\n",
       "  height: 1em;\n",
       "  width: 1em;\n",
       "  text-decoration: none !important;\n",
       "  margin-left: 0.5em;\n",
       "  text-align: center;\n",
       "  /* unfitted */\n",
       "  border: var(--sklearn-color-unfitted-level-1) 1pt solid;\n",
       "  color: var(--sklearn-color-unfitted-level-1);\n",
       "}\n",
       "\n",
       ".sk-estimator-doc-link.fitted,\n",
       "a:link.sk-estimator-doc-link.fitted,\n",
       "a:visited.sk-estimator-doc-link.fitted {\n",
       "  /* fitted */\n",
       "  border: var(--sklearn-color-fitted-level-1) 1pt solid;\n",
       "  color: var(--sklearn-color-fitted-level-1);\n",
       "}\n",
       "\n",
       "/* On hover */\n",
       "div.sk-estimator:hover .sk-estimator-doc-link:hover,\n",
       ".sk-estimator-doc-link:hover,\n",
       "div.sk-label-container:hover .sk-estimator-doc-link:hover,\n",
       ".sk-estimator-doc-link:hover {\n",
       "  /* unfitted */\n",
       "  background-color: var(--sklearn-color-unfitted-level-3);\n",
       "  color: var(--sklearn-color-background);\n",
       "  text-decoration: none;\n",
       "}\n",
       "\n",
       "div.sk-estimator.fitted:hover .sk-estimator-doc-link.fitted:hover,\n",
       ".sk-estimator-doc-link.fitted:hover,\n",
       "div.sk-label-container:hover .sk-estimator-doc-link.fitted:hover,\n",
       ".sk-estimator-doc-link.fitted:hover {\n",
       "  /* fitted */\n",
       "  background-color: var(--sklearn-color-fitted-level-3);\n",
       "  color: var(--sklearn-color-background);\n",
       "  text-decoration: none;\n",
       "}\n",
       "\n",
       "/* Span, style for the box shown on hovering the info icon */\n",
       ".sk-estimator-doc-link span {\n",
       "  display: none;\n",
       "  z-index: 9999;\n",
       "  position: relative;\n",
       "  font-weight: normal;\n",
       "  right: .2ex;\n",
       "  padding: .5ex;\n",
       "  margin: .5ex;\n",
       "  width: min-content;\n",
       "  min-width: 20ex;\n",
       "  max-width: 50ex;\n",
       "  color: var(--sklearn-color-text);\n",
       "  box-shadow: 2pt 2pt 4pt #999;\n",
       "  /* unfitted */\n",
       "  background: var(--sklearn-color-unfitted-level-0);\n",
       "  border: .5pt solid var(--sklearn-color-unfitted-level-3);\n",
       "}\n",
       "\n",
       ".sk-estimator-doc-link.fitted span {\n",
       "  /* fitted */\n",
       "  background: var(--sklearn-color-fitted-level-0);\n",
       "  border: var(--sklearn-color-fitted-level-3);\n",
       "}\n",
       "\n",
       ".sk-estimator-doc-link:hover span {\n",
       "  display: block;\n",
       "}\n",
       "\n",
       "/* \"?\"-specific style due to the `<a>` HTML tag */\n",
       "\n",
       "#sk-container-id-1 a.estimator_doc_link {\n",
       "  float: right;\n",
       "  font-size: 1rem;\n",
       "  line-height: 1em;\n",
       "  font-family: monospace;\n",
       "  background-color: var(--sklearn-color-background);\n",
       "  border-radius: 1rem;\n",
       "  height: 1rem;\n",
       "  width: 1rem;\n",
       "  text-decoration: none;\n",
       "  /* unfitted */\n",
       "  color: var(--sklearn-color-unfitted-level-1);\n",
       "  border: var(--sklearn-color-unfitted-level-1) 1pt solid;\n",
       "}\n",
       "\n",
       "#sk-container-id-1 a.estimator_doc_link.fitted {\n",
       "  /* fitted */\n",
       "  border: var(--sklearn-color-fitted-level-1) 1pt solid;\n",
       "  color: var(--sklearn-color-fitted-level-1);\n",
       "}\n",
       "\n",
       "/* On hover */\n",
       "#sk-container-id-1 a.estimator_doc_link:hover {\n",
       "  /* unfitted */\n",
       "  background-color: var(--sklearn-color-unfitted-level-3);\n",
       "  color: var(--sklearn-color-background);\n",
       "  text-decoration: none;\n",
       "}\n",
       "\n",
       "#sk-container-id-1 a.estimator_doc_link.fitted:hover {\n",
       "  /* fitted */\n",
       "  background-color: var(--sklearn-color-fitted-level-3);\n",
       "}\n",
       "</style><div id=\"sk-container-id-1\" class=\"sk-top-container\"><div class=\"sk-text-repr-fallback\"><pre>Pipeline(steps=[(&#x27;simpleimputer&#x27;, SimpleImputer(strategy=&#x27;median&#x27;)),\n",
       "                (&#x27;linearregression&#x27;, LinearRegression())])</pre><b>In a Jupyter environment, please rerun this cell to show the HTML representation or trust the notebook. <br />On GitHub, the HTML representation is unable to render, please try loading this page with nbviewer.org.</b></div><div class=\"sk-container\" hidden><div class=\"sk-item sk-dashed-wrapped\"><div class=\"sk-label-container\"><div class=\"sk-label fitted sk-toggleable\"><input class=\"sk-toggleable__control sk-hidden--visually\" id=\"sk-estimator-id-1\" type=\"checkbox\" ><label for=\"sk-estimator-id-1\" class=\"sk-toggleable__label fitted sk-toggleable__label-arrow\"><div><div>Pipeline</div></div><div><a class=\"sk-estimator-doc-link fitted\" rel=\"noreferrer\" target=\"_blank\" href=\"https://scikit-learn.org/1.6/modules/generated/sklearn.pipeline.Pipeline.html\">?<span>Documentation for Pipeline</span></a><span class=\"sk-estimator-doc-link fitted\">i<span>Fitted</span></span></div></label><div class=\"sk-toggleable__content fitted\"><pre>Pipeline(steps=[(&#x27;simpleimputer&#x27;, SimpleImputer(strategy=&#x27;median&#x27;)),\n",
       "                (&#x27;linearregression&#x27;, LinearRegression())])</pre></div> </div></div><div class=\"sk-serial\"><div class=\"sk-item\"><div class=\"sk-estimator fitted sk-toggleable\"><input class=\"sk-toggleable__control sk-hidden--visually\" id=\"sk-estimator-id-2\" type=\"checkbox\" ><label for=\"sk-estimator-id-2\" class=\"sk-toggleable__label fitted sk-toggleable__label-arrow\"><div><div>SimpleImputer</div></div><div><a class=\"sk-estimator-doc-link fitted\" rel=\"noreferrer\" target=\"_blank\" href=\"https://scikit-learn.org/1.6/modules/generated/sklearn.impute.SimpleImputer.html\">?<span>Documentation for SimpleImputer</span></a></div></label><div class=\"sk-toggleable__content fitted\"><pre>SimpleImputer(strategy=&#x27;median&#x27;)</pre></div> </div></div><div class=\"sk-item\"><div class=\"sk-estimator fitted sk-toggleable\"><input class=\"sk-toggleable__control sk-hidden--visually\" id=\"sk-estimator-id-3\" type=\"checkbox\" ><label for=\"sk-estimator-id-3\" class=\"sk-toggleable__label fitted sk-toggleable__label-arrow\"><div><div>LinearRegression</div></div><div><a class=\"sk-estimator-doc-link fitted\" rel=\"noreferrer\" target=\"_blank\" href=\"https://scikit-learn.org/1.6/modules/generated/sklearn.linear_model.LinearRegression.html\">?<span>Documentation for LinearRegression</span></a></div></label><div class=\"sk-toggleable__content fitted\"><pre>LinearRegression()</pre></div> </div></div></div></div></div></div>"
      ],
      "text/plain": [
       "Pipeline(steps=[('simpleimputer', SimpleImputer(strategy='median')),\n",
       "                ('linearregression', LinearRegression())])"
      ]
     },
     "execution_count": 43,
     "metadata": {},
     "output_type": "execute_result"
    }
   ],
   "source": [
    "pipe.fit(X_train, y_train)"
   ]
  },
  {
   "cell_type": "code",
   "execution_count": 44,
   "id": "eee77ddb-e7e3-4ee1-a63c-b9ee4102be7d",
   "metadata": {},
   "outputs": [],
   "source": [
    "y_tr_pred = pipe.predict(X_train)\n",
    "y_te_pred = pipe.predict(X_test)"
   ]
  },
  {
   "cell_type": "code",
   "execution_count": 45,
   "id": "281860f7-558c-4553-894d-b4865f7f8dbb",
   "metadata": {},
   "outputs": [
    {
     "data": {
      "text/plain": [
       "(0.559501404915121, 0.5593245551142743)"
      ]
     },
     "execution_count": 45,
     "metadata": {},
     "output_type": "execute_result"
    }
   ],
   "source": [
    "r2_score(y_train, y_tr_pred), r2_score(y_test, y_te_pred)"
   ]
  },
  {
   "cell_type": "markdown",
   "id": "5d740ddf-5fe0-45c8-875b-1a0a26058f7c",
   "metadata": {},
   "source": [
    "Not suprised that with no hyperparameter tuning there is no change in the performance of the model."
   ]
  },
  {
   "cell_type": "code",
   "execution_count": 46,
   "id": "aae0e506-d1c2-4009-b523-9784d60ac2ad",
   "metadata": {},
   "outputs": [],
   "source": [
    "pipe15 = make_pipeline(\n",
    "    SimpleImputer(strategy='median'), \n",
    "    SelectKBest(f_regression, k = 15),\n",
    "    LinearRegression()\n",
    ")"
   ]
  },
  {
   "cell_type": "code",
   "execution_count": 47,
   "id": "c5b59794-8283-4b59-99ed-c6cb817ea848",
   "metadata": {},
   "outputs": [
    {
     "data": {
      "text/html": [
       "<style>#sk-container-id-2 {\n",
       "  /* Definition of color scheme common for light and dark mode */\n",
       "  --sklearn-color-text: #000;\n",
       "  --sklearn-color-text-muted: #666;\n",
       "  --sklearn-color-line: gray;\n",
       "  /* Definition of color scheme for unfitted estimators */\n",
       "  --sklearn-color-unfitted-level-0: #fff5e6;\n",
       "  --sklearn-color-unfitted-level-1: #f6e4d2;\n",
       "  --sklearn-color-unfitted-level-2: #ffe0b3;\n",
       "  --sklearn-color-unfitted-level-3: chocolate;\n",
       "  /* Definition of color scheme for fitted estimators */\n",
       "  --sklearn-color-fitted-level-0: #f0f8ff;\n",
       "  --sklearn-color-fitted-level-1: #d4ebff;\n",
       "  --sklearn-color-fitted-level-2: #b3dbfd;\n",
       "  --sklearn-color-fitted-level-3: cornflowerblue;\n",
       "\n",
       "  /* Specific color for light theme */\n",
       "  --sklearn-color-text-on-default-background: var(--sg-text-color, var(--theme-code-foreground, var(--jp-content-font-color1, black)));\n",
       "  --sklearn-color-background: var(--sg-background-color, var(--theme-background, var(--jp-layout-color0, white)));\n",
       "  --sklearn-color-border-box: var(--sg-text-color, var(--theme-code-foreground, var(--jp-content-font-color1, black)));\n",
       "  --sklearn-color-icon: #696969;\n",
       "\n",
       "  @media (prefers-color-scheme: dark) {\n",
       "    /* Redefinition of color scheme for dark theme */\n",
       "    --sklearn-color-text-on-default-background: var(--sg-text-color, var(--theme-code-foreground, var(--jp-content-font-color1, white)));\n",
       "    --sklearn-color-background: var(--sg-background-color, var(--theme-background, var(--jp-layout-color0, #111)));\n",
       "    --sklearn-color-border-box: var(--sg-text-color, var(--theme-code-foreground, var(--jp-content-font-color1, white)));\n",
       "    --sklearn-color-icon: #878787;\n",
       "  }\n",
       "}\n",
       "\n",
       "#sk-container-id-2 {\n",
       "  color: var(--sklearn-color-text);\n",
       "}\n",
       "\n",
       "#sk-container-id-2 pre {\n",
       "  padding: 0;\n",
       "}\n",
       "\n",
       "#sk-container-id-2 input.sk-hidden--visually {\n",
       "  border: 0;\n",
       "  clip: rect(1px 1px 1px 1px);\n",
       "  clip: rect(1px, 1px, 1px, 1px);\n",
       "  height: 1px;\n",
       "  margin: -1px;\n",
       "  overflow: hidden;\n",
       "  padding: 0;\n",
       "  position: absolute;\n",
       "  width: 1px;\n",
       "}\n",
       "\n",
       "#sk-container-id-2 div.sk-dashed-wrapped {\n",
       "  border: 1px dashed var(--sklearn-color-line);\n",
       "  margin: 0 0.4em 0.5em 0.4em;\n",
       "  box-sizing: border-box;\n",
       "  padding-bottom: 0.4em;\n",
       "  background-color: var(--sklearn-color-background);\n",
       "}\n",
       "\n",
       "#sk-container-id-2 div.sk-container {\n",
       "  /* jupyter's `normalize.less` sets `[hidden] { display: none; }`\n",
       "     but bootstrap.min.css set `[hidden] { display: none !important; }`\n",
       "     so we also need the `!important` here to be able to override the\n",
       "     default hidden behavior on the sphinx rendered scikit-learn.org.\n",
       "     See: https://github.com/scikit-learn/scikit-learn/issues/21755 */\n",
       "  display: inline-block !important;\n",
       "  position: relative;\n",
       "}\n",
       "\n",
       "#sk-container-id-2 div.sk-text-repr-fallback {\n",
       "  display: none;\n",
       "}\n",
       "\n",
       "div.sk-parallel-item,\n",
       "div.sk-serial,\n",
       "div.sk-item {\n",
       "  /* draw centered vertical line to link estimators */\n",
       "  background-image: linear-gradient(var(--sklearn-color-text-on-default-background), var(--sklearn-color-text-on-default-background));\n",
       "  background-size: 2px 100%;\n",
       "  background-repeat: no-repeat;\n",
       "  background-position: center center;\n",
       "}\n",
       "\n",
       "/* Parallel-specific style estimator block */\n",
       "\n",
       "#sk-container-id-2 div.sk-parallel-item::after {\n",
       "  content: \"\";\n",
       "  width: 100%;\n",
       "  border-bottom: 2px solid var(--sklearn-color-text-on-default-background);\n",
       "  flex-grow: 1;\n",
       "}\n",
       "\n",
       "#sk-container-id-2 div.sk-parallel {\n",
       "  display: flex;\n",
       "  align-items: stretch;\n",
       "  justify-content: center;\n",
       "  background-color: var(--sklearn-color-background);\n",
       "  position: relative;\n",
       "}\n",
       "\n",
       "#sk-container-id-2 div.sk-parallel-item {\n",
       "  display: flex;\n",
       "  flex-direction: column;\n",
       "}\n",
       "\n",
       "#sk-container-id-2 div.sk-parallel-item:first-child::after {\n",
       "  align-self: flex-end;\n",
       "  width: 50%;\n",
       "}\n",
       "\n",
       "#sk-container-id-2 div.sk-parallel-item:last-child::after {\n",
       "  align-self: flex-start;\n",
       "  width: 50%;\n",
       "}\n",
       "\n",
       "#sk-container-id-2 div.sk-parallel-item:only-child::after {\n",
       "  width: 0;\n",
       "}\n",
       "\n",
       "/* Serial-specific style estimator block */\n",
       "\n",
       "#sk-container-id-2 div.sk-serial {\n",
       "  display: flex;\n",
       "  flex-direction: column;\n",
       "  align-items: center;\n",
       "  background-color: var(--sklearn-color-background);\n",
       "  padding-right: 1em;\n",
       "  padding-left: 1em;\n",
       "}\n",
       "\n",
       "\n",
       "/* Toggleable style: style used for estimator/Pipeline/ColumnTransformer box that is\n",
       "clickable and can be expanded/collapsed.\n",
       "- Pipeline and ColumnTransformer use this feature and define the default style\n",
       "- Estimators will overwrite some part of the style using the `sk-estimator` class\n",
       "*/\n",
       "\n",
       "/* Pipeline and ColumnTransformer style (default) */\n",
       "\n",
       "#sk-container-id-2 div.sk-toggleable {\n",
       "  /* Default theme specific background. It is overwritten whether we have a\n",
       "  specific estimator or a Pipeline/ColumnTransformer */\n",
       "  background-color: var(--sklearn-color-background);\n",
       "}\n",
       "\n",
       "/* Toggleable label */\n",
       "#sk-container-id-2 label.sk-toggleable__label {\n",
       "  cursor: pointer;\n",
       "  display: flex;\n",
       "  width: 100%;\n",
       "  margin-bottom: 0;\n",
       "  padding: 0.5em;\n",
       "  box-sizing: border-box;\n",
       "  text-align: center;\n",
       "  align-items: start;\n",
       "  justify-content: space-between;\n",
       "  gap: 0.5em;\n",
       "}\n",
       "\n",
       "#sk-container-id-2 label.sk-toggleable__label .caption {\n",
       "  font-size: 0.6rem;\n",
       "  font-weight: lighter;\n",
       "  color: var(--sklearn-color-text-muted);\n",
       "}\n",
       "\n",
       "#sk-container-id-2 label.sk-toggleable__label-arrow:before {\n",
       "  /* Arrow on the left of the label */\n",
       "  content: \"▸\";\n",
       "  float: left;\n",
       "  margin-right: 0.25em;\n",
       "  color: var(--sklearn-color-icon);\n",
       "}\n",
       "\n",
       "#sk-container-id-2 label.sk-toggleable__label-arrow:hover:before {\n",
       "  color: var(--sklearn-color-text);\n",
       "}\n",
       "\n",
       "/* Toggleable content - dropdown */\n",
       "\n",
       "#sk-container-id-2 div.sk-toggleable__content {\n",
       "  max-height: 0;\n",
       "  max-width: 0;\n",
       "  overflow: hidden;\n",
       "  text-align: left;\n",
       "  /* unfitted */\n",
       "  background-color: var(--sklearn-color-unfitted-level-0);\n",
       "}\n",
       "\n",
       "#sk-container-id-2 div.sk-toggleable__content.fitted {\n",
       "  /* fitted */\n",
       "  background-color: var(--sklearn-color-fitted-level-0);\n",
       "}\n",
       "\n",
       "#sk-container-id-2 div.sk-toggleable__content pre {\n",
       "  margin: 0.2em;\n",
       "  border-radius: 0.25em;\n",
       "  color: var(--sklearn-color-text);\n",
       "  /* unfitted */\n",
       "  background-color: var(--sklearn-color-unfitted-level-0);\n",
       "}\n",
       "\n",
       "#sk-container-id-2 div.sk-toggleable__content.fitted pre {\n",
       "  /* unfitted */\n",
       "  background-color: var(--sklearn-color-fitted-level-0);\n",
       "}\n",
       "\n",
       "#sk-container-id-2 input.sk-toggleable__control:checked~div.sk-toggleable__content {\n",
       "  /* Expand drop-down */\n",
       "  max-height: 200px;\n",
       "  max-width: 100%;\n",
       "  overflow: auto;\n",
       "}\n",
       "\n",
       "#sk-container-id-2 input.sk-toggleable__control:checked~label.sk-toggleable__label-arrow:before {\n",
       "  content: \"▾\";\n",
       "}\n",
       "\n",
       "/* Pipeline/ColumnTransformer-specific style */\n",
       "\n",
       "#sk-container-id-2 div.sk-label input.sk-toggleable__control:checked~label.sk-toggleable__label {\n",
       "  color: var(--sklearn-color-text);\n",
       "  background-color: var(--sklearn-color-unfitted-level-2);\n",
       "}\n",
       "\n",
       "#sk-container-id-2 div.sk-label.fitted input.sk-toggleable__control:checked~label.sk-toggleable__label {\n",
       "  background-color: var(--sklearn-color-fitted-level-2);\n",
       "}\n",
       "\n",
       "/* Estimator-specific style */\n",
       "\n",
       "/* Colorize estimator box */\n",
       "#sk-container-id-2 div.sk-estimator input.sk-toggleable__control:checked~label.sk-toggleable__label {\n",
       "  /* unfitted */\n",
       "  background-color: var(--sklearn-color-unfitted-level-2);\n",
       "}\n",
       "\n",
       "#sk-container-id-2 div.sk-estimator.fitted input.sk-toggleable__control:checked~label.sk-toggleable__label {\n",
       "  /* fitted */\n",
       "  background-color: var(--sklearn-color-fitted-level-2);\n",
       "}\n",
       "\n",
       "#sk-container-id-2 div.sk-label label.sk-toggleable__label,\n",
       "#sk-container-id-2 div.sk-label label {\n",
       "  /* The background is the default theme color */\n",
       "  color: var(--sklearn-color-text-on-default-background);\n",
       "}\n",
       "\n",
       "/* On hover, darken the color of the background */\n",
       "#sk-container-id-2 div.sk-label:hover label.sk-toggleable__label {\n",
       "  color: var(--sklearn-color-text);\n",
       "  background-color: var(--sklearn-color-unfitted-level-2);\n",
       "}\n",
       "\n",
       "/* Label box, darken color on hover, fitted */\n",
       "#sk-container-id-2 div.sk-label.fitted:hover label.sk-toggleable__label.fitted {\n",
       "  color: var(--sklearn-color-text);\n",
       "  background-color: var(--sklearn-color-fitted-level-2);\n",
       "}\n",
       "\n",
       "/* Estimator label */\n",
       "\n",
       "#sk-container-id-2 div.sk-label label {\n",
       "  font-family: monospace;\n",
       "  font-weight: bold;\n",
       "  display: inline-block;\n",
       "  line-height: 1.2em;\n",
       "}\n",
       "\n",
       "#sk-container-id-2 div.sk-label-container {\n",
       "  text-align: center;\n",
       "}\n",
       "\n",
       "/* Estimator-specific */\n",
       "#sk-container-id-2 div.sk-estimator {\n",
       "  font-family: monospace;\n",
       "  border: 1px dotted var(--sklearn-color-border-box);\n",
       "  border-radius: 0.25em;\n",
       "  box-sizing: border-box;\n",
       "  margin-bottom: 0.5em;\n",
       "  /* unfitted */\n",
       "  background-color: var(--sklearn-color-unfitted-level-0);\n",
       "}\n",
       "\n",
       "#sk-container-id-2 div.sk-estimator.fitted {\n",
       "  /* fitted */\n",
       "  background-color: var(--sklearn-color-fitted-level-0);\n",
       "}\n",
       "\n",
       "/* on hover */\n",
       "#sk-container-id-2 div.sk-estimator:hover {\n",
       "  /* unfitted */\n",
       "  background-color: var(--sklearn-color-unfitted-level-2);\n",
       "}\n",
       "\n",
       "#sk-container-id-2 div.sk-estimator.fitted:hover {\n",
       "  /* fitted */\n",
       "  background-color: var(--sklearn-color-fitted-level-2);\n",
       "}\n",
       "\n",
       "/* Specification for estimator info (e.g. \"i\" and \"?\") */\n",
       "\n",
       "/* Common style for \"i\" and \"?\" */\n",
       "\n",
       ".sk-estimator-doc-link,\n",
       "a:link.sk-estimator-doc-link,\n",
       "a:visited.sk-estimator-doc-link {\n",
       "  float: right;\n",
       "  font-size: smaller;\n",
       "  line-height: 1em;\n",
       "  font-family: monospace;\n",
       "  background-color: var(--sklearn-color-background);\n",
       "  border-radius: 1em;\n",
       "  height: 1em;\n",
       "  width: 1em;\n",
       "  text-decoration: none !important;\n",
       "  margin-left: 0.5em;\n",
       "  text-align: center;\n",
       "  /* unfitted */\n",
       "  border: var(--sklearn-color-unfitted-level-1) 1pt solid;\n",
       "  color: var(--sklearn-color-unfitted-level-1);\n",
       "}\n",
       "\n",
       ".sk-estimator-doc-link.fitted,\n",
       "a:link.sk-estimator-doc-link.fitted,\n",
       "a:visited.sk-estimator-doc-link.fitted {\n",
       "  /* fitted */\n",
       "  border: var(--sklearn-color-fitted-level-1) 1pt solid;\n",
       "  color: var(--sklearn-color-fitted-level-1);\n",
       "}\n",
       "\n",
       "/* On hover */\n",
       "div.sk-estimator:hover .sk-estimator-doc-link:hover,\n",
       ".sk-estimator-doc-link:hover,\n",
       "div.sk-label-container:hover .sk-estimator-doc-link:hover,\n",
       ".sk-estimator-doc-link:hover {\n",
       "  /* unfitted */\n",
       "  background-color: var(--sklearn-color-unfitted-level-3);\n",
       "  color: var(--sklearn-color-background);\n",
       "  text-decoration: none;\n",
       "}\n",
       "\n",
       "div.sk-estimator.fitted:hover .sk-estimator-doc-link.fitted:hover,\n",
       ".sk-estimator-doc-link.fitted:hover,\n",
       "div.sk-label-container:hover .sk-estimator-doc-link.fitted:hover,\n",
       ".sk-estimator-doc-link.fitted:hover {\n",
       "  /* fitted */\n",
       "  background-color: var(--sklearn-color-fitted-level-3);\n",
       "  color: var(--sklearn-color-background);\n",
       "  text-decoration: none;\n",
       "}\n",
       "\n",
       "/* Span, style for the box shown on hovering the info icon */\n",
       ".sk-estimator-doc-link span {\n",
       "  display: none;\n",
       "  z-index: 9999;\n",
       "  position: relative;\n",
       "  font-weight: normal;\n",
       "  right: .2ex;\n",
       "  padding: .5ex;\n",
       "  margin: .5ex;\n",
       "  width: min-content;\n",
       "  min-width: 20ex;\n",
       "  max-width: 50ex;\n",
       "  color: var(--sklearn-color-text);\n",
       "  box-shadow: 2pt 2pt 4pt #999;\n",
       "  /* unfitted */\n",
       "  background: var(--sklearn-color-unfitted-level-0);\n",
       "  border: .5pt solid var(--sklearn-color-unfitted-level-3);\n",
       "}\n",
       "\n",
       ".sk-estimator-doc-link.fitted span {\n",
       "  /* fitted */\n",
       "  background: var(--sklearn-color-fitted-level-0);\n",
       "  border: var(--sklearn-color-fitted-level-3);\n",
       "}\n",
       "\n",
       ".sk-estimator-doc-link:hover span {\n",
       "  display: block;\n",
       "}\n",
       "\n",
       "/* \"?\"-specific style due to the `<a>` HTML tag */\n",
       "\n",
       "#sk-container-id-2 a.estimator_doc_link {\n",
       "  float: right;\n",
       "  font-size: 1rem;\n",
       "  line-height: 1em;\n",
       "  font-family: monospace;\n",
       "  background-color: var(--sklearn-color-background);\n",
       "  border-radius: 1rem;\n",
       "  height: 1rem;\n",
       "  width: 1rem;\n",
       "  text-decoration: none;\n",
       "  /* unfitted */\n",
       "  color: var(--sklearn-color-unfitted-level-1);\n",
       "  border: var(--sklearn-color-unfitted-level-1) 1pt solid;\n",
       "}\n",
       "\n",
       "#sk-container-id-2 a.estimator_doc_link.fitted {\n",
       "  /* fitted */\n",
       "  border: var(--sklearn-color-fitted-level-1) 1pt solid;\n",
       "  color: var(--sklearn-color-fitted-level-1);\n",
       "}\n",
       "\n",
       "/* On hover */\n",
       "#sk-container-id-2 a.estimator_doc_link:hover {\n",
       "  /* unfitted */\n",
       "  background-color: var(--sklearn-color-unfitted-level-3);\n",
       "  color: var(--sklearn-color-background);\n",
       "  text-decoration: none;\n",
       "}\n",
       "\n",
       "#sk-container-id-2 a.estimator_doc_link.fitted:hover {\n",
       "  /* fitted */\n",
       "  background-color: var(--sklearn-color-fitted-level-3);\n",
       "}\n",
       "</style><div id=\"sk-container-id-2\" class=\"sk-top-container\"><div class=\"sk-text-repr-fallback\"><pre>Pipeline(steps=[(&#x27;simpleimputer&#x27;, SimpleImputer(strategy=&#x27;median&#x27;)),\n",
       "                (&#x27;selectkbest&#x27;,\n",
       "                 SelectKBest(k=15,\n",
       "                             score_func=&lt;function f_regression at 0x7f92bc8cd0d0&gt;)),\n",
       "                (&#x27;linearregression&#x27;, LinearRegression())])</pre><b>In a Jupyter environment, please rerun this cell to show the HTML representation or trust the notebook. <br />On GitHub, the HTML representation is unable to render, please try loading this page with nbviewer.org.</b></div><div class=\"sk-container\" hidden><div class=\"sk-item sk-dashed-wrapped\"><div class=\"sk-label-container\"><div class=\"sk-label fitted sk-toggleable\"><input class=\"sk-toggleable__control sk-hidden--visually\" id=\"sk-estimator-id-4\" type=\"checkbox\" ><label for=\"sk-estimator-id-4\" class=\"sk-toggleable__label fitted sk-toggleable__label-arrow\"><div><div>Pipeline</div></div><div><a class=\"sk-estimator-doc-link fitted\" rel=\"noreferrer\" target=\"_blank\" href=\"https://scikit-learn.org/1.6/modules/generated/sklearn.pipeline.Pipeline.html\">?<span>Documentation for Pipeline</span></a><span class=\"sk-estimator-doc-link fitted\">i<span>Fitted</span></span></div></label><div class=\"sk-toggleable__content fitted\"><pre>Pipeline(steps=[(&#x27;simpleimputer&#x27;, SimpleImputer(strategy=&#x27;median&#x27;)),\n",
       "                (&#x27;selectkbest&#x27;,\n",
       "                 SelectKBest(k=15,\n",
       "                             score_func=&lt;function f_regression at 0x7f92bc8cd0d0&gt;)),\n",
       "                (&#x27;linearregression&#x27;, LinearRegression())])</pre></div> </div></div><div class=\"sk-serial\"><div class=\"sk-item\"><div class=\"sk-estimator fitted sk-toggleable\"><input class=\"sk-toggleable__control sk-hidden--visually\" id=\"sk-estimator-id-5\" type=\"checkbox\" ><label for=\"sk-estimator-id-5\" class=\"sk-toggleable__label fitted sk-toggleable__label-arrow\"><div><div>SimpleImputer</div></div><div><a class=\"sk-estimator-doc-link fitted\" rel=\"noreferrer\" target=\"_blank\" href=\"https://scikit-learn.org/1.6/modules/generated/sklearn.impute.SimpleImputer.html\">?<span>Documentation for SimpleImputer</span></a></div></label><div class=\"sk-toggleable__content fitted\"><pre>SimpleImputer(strategy=&#x27;median&#x27;)</pre></div> </div></div><div class=\"sk-item\"><div class=\"sk-estimator fitted sk-toggleable\"><input class=\"sk-toggleable__control sk-hidden--visually\" id=\"sk-estimator-id-6\" type=\"checkbox\" ><label for=\"sk-estimator-id-6\" class=\"sk-toggleable__label fitted sk-toggleable__label-arrow\"><div><div>SelectKBest</div></div><div><a class=\"sk-estimator-doc-link fitted\" rel=\"noreferrer\" target=\"_blank\" href=\"https://scikit-learn.org/1.6/modules/generated/sklearn.feature_selection.SelectKBest.html\">?<span>Documentation for SelectKBest</span></a></div></label><div class=\"sk-toggleable__content fitted\"><pre>SelectKBest(k=15, score_func=&lt;function f_regression at 0x7f92bc8cd0d0&gt;)</pre></div> </div></div><div class=\"sk-item\"><div class=\"sk-estimator fitted sk-toggleable\"><input class=\"sk-toggleable__control sk-hidden--visually\" id=\"sk-estimator-id-7\" type=\"checkbox\" ><label for=\"sk-estimator-id-7\" class=\"sk-toggleable__label fitted sk-toggleable__label-arrow\"><div><div>LinearRegression</div></div><div><a class=\"sk-estimator-doc-link fitted\" rel=\"noreferrer\" target=\"_blank\" href=\"https://scikit-learn.org/1.6/modules/generated/sklearn.linear_model.LinearRegression.html\">?<span>Documentation for LinearRegression</span></a></div></label><div class=\"sk-toggleable__content fitted\"><pre>LinearRegression()</pre></div> </div></div></div></div></div></div>"
      ],
      "text/plain": [
       "Pipeline(steps=[('simpleimputer', SimpleImputer(strategy='median')),\n",
       "                ('selectkbest',\n",
       "                 SelectKBest(k=15,\n",
       "                             score_func=<function f_regression at 0x7f92bc8cd0d0>)),\n",
       "                ('linearregression', LinearRegression())])"
      ]
     },
     "execution_count": 47,
     "metadata": {},
     "output_type": "execute_result"
    }
   ],
   "source": [
    "pipe15.fit(X_train, y_train)"
   ]
  },
  {
   "cell_type": "code",
   "execution_count": 50,
   "id": "1a2f69c7-eff5-4118-9b1d-ee1e91d1fbf3",
   "metadata": {},
   "outputs": [],
   "source": [
    "y_tr_pred = pipe15.predict(X_train)\n",
    "y_te_pred = pipe15.predict(X_test)"
   ]
  },
  {
   "cell_type": "code",
   "execution_count": 51,
   "id": "1142ae66-563d-4ed1-93f9-e5f6a391ae29",
   "metadata": {},
   "outputs": [
    {
     "data": {
      "text/plain": [
       "(0.5382422660043918, 0.5387282136495707)"
      ]
     },
     "execution_count": 51,
     "metadata": {},
     "output_type": "execute_result"
    }
   ],
   "source": [
    "r2_score(y_train, y_tr_pred), r2_score(y_test, y_te_pred)"
   ]
  },
  {
   "cell_type": "code",
   "execution_count": 52,
   "id": "73857769-3042-491f-a96f-2066e4e885eb",
   "metadata": {},
   "outputs": [
    {
     "data": {
      "text/plain": [
       "(9549.079914177217, 9562.399846090026)"
      ]
     },
     "execution_count": 52,
     "metadata": {},
     "output_type": "execute_result"
    }
   ],
   "source": [
    "mean_absolute_error(y_train, y_tr_pred), mean_absolute_error(y_test, y_te_pred)"
   ]
  },
  {
   "cell_type": "code",
   "execution_count": 53,
   "id": "25968fce-d5da-41a5-baa0-eac4465ef5d8",
   "metadata": {},
   "outputs": [],
   "source": [
    "cv_results = cross_validate(pipe15, X_train, y_train, cv=5)"
   ]
  },
  {
   "cell_type": "code",
   "execution_count": 54,
   "id": "4495ffca-e221-4e3c-8c0c-e0d6f181b5e2",
   "metadata": {},
   "outputs": [
    {
     "data": {
      "text/plain": [
       "array([0.53741156, 0.54138452, 0.53808662, 0.53400028, 0.5402052 ])"
      ]
     },
     "execution_count": 54,
     "metadata": {},
     "output_type": "execute_result"
    }
   ],
   "source": [
    "cv_scores = cv_results['test_score']\n",
    "cv_scores"
   ]
  },
  {
   "cell_type": "code",
   "execution_count": 55,
   "id": "10f659a3-74c5-449f-ab74-1c6f5b5e2b08",
   "metadata": {},
   "outputs": [
    {
     "data": {
      "text/plain": [
       "(0.5382176355326644, 0.0025468650386534105)"
      ]
     },
     "execution_count": 55,
     "metadata": {},
     "output_type": "execute_result"
    }
   ],
   "source": [
    "np.mean(cv_scores), np.std(cv_scores)"
   ]
  },
  {
   "cell_type": "code",
   "execution_count": 56,
   "id": "24926eca-733e-46d3-bd84-9f9d305206a0",
   "metadata": {},
   "outputs": [
    {
     "data": {
      "text/plain": [
       "array([0.53, 0.54])"
      ]
     },
     "execution_count": 56,
     "metadata": {},
     "output_type": "execute_result"
    }
   ],
   "source": [
    "np.round((np.mean(cv_scores) - 2 * np.std(cv_scores), np.mean(cv_scores) + 2 * np.std(cv_scores)), 2)"
   ]
  },
  {
   "cell_type": "markdown",
   "id": "f2d1555e-58bd-4e4a-8356-0f34f9430fa8",
   "metadata": {},
   "source": [
    "We can also see that with K=15 the performance decreases. Let's figure out the best K value for optimal performance of the model."
   ]
  },
  {
   "cell_type": "code",
   "execution_count": 57,
   "id": "dcaf021a-5ae6-4f75-8e6a-54a4266e307f",
   "metadata": {},
   "outputs": [],
   "source": [
    "k = [k+1 for k in range(len(X_train.columns))]\n",
    "grid_params = {'selectkbest__k': k}"
   ]
  },
  {
   "cell_type": "code",
   "execution_count": 58,
   "id": "ecedb8c2-f75a-4618-a591-2171be9ee65f",
   "metadata": {},
   "outputs": [],
   "source": [
    "lr_grid_cv = GridSearchCV(pipe15, param_grid=grid_params, cv=5, n_jobs=-1)"
   ]
  },
  {
   "cell_type": "code",
   "execution_count": 59,
   "id": "c8bfa0b2-f9a1-4711-ba45-3e213c761ea4",
   "metadata": {},
   "outputs": [
    {
     "data": {
      "text/html": [
       "<style>#sk-container-id-3 {\n",
       "  /* Definition of color scheme common for light and dark mode */\n",
       "  --sklearn-color-text: #000;\n",
       "  --sklearn-color-text-muted: #666;\n",
       "  --sklearn-color-line: gray;\n",
       "  /* Definition of color scheme for unfitted estimators */\n",
       "  --sklearn-color-unfitted-level-0: #fff5e6;\n",
       "  --sklearn-color-unfitted-level-1: #f6e4d2;\n",
       "  --sklearn-color-unfitted-level-2: #ffe0b3;\n",
       "  --sklearn-color-unfitted-level-3: chocolate;\n",
       "  /* Definition of color scheme for fitted estimators */\n",
       "  --sklearn-color-fitted-level-0: #f0f8ff;\n",
       "  --sklearn-color-fitted-level-1: #d4ebff;\n",
       "  --sklearn-color-fitted-level-2: #b3dbfd;\n",
       "  --sklearn-color-fitted-level-3: cornflowerblue;\n",
       "\n",
       "  /* Specific color for light theme */\n",
       "  --sklearn-color-text-on-default-background: var(--sg-text-color, var(--theme-code-foreground, var(--jp-content-font-color1, black)));\n",
       "  --sklearn-color-background: var(--sg-background-color, var(--theme-background, var(--jp-layout-color0, white)));\n",
       "  --sklearn-color-border-box: var(--sg-text-color, var(--theme-code-foreground, var(--jp-content-font-color1, black)));\n",
       "  --sklearn-color-icon: #696969;\n",
       "\n",
       "  @media (prefers-color-scheme: dark) {\n",
       "    /* Redefinition of color scheme for dark theme */\n",
       "    --sklearn-color-text-on-default-background: var(--sg-text-color, var(--theme-code-foreground, var(--jp-content-font-color1, white)));\n",
       "    --sklearn-color-background: var(--sg-background-color, var(--theme-background, var(--jp-layout-color0, #111)));\n",
       "    --sklearn-color-border-box: var(--sg-text-color, var(--theme-code-foreground, var(--jp-content-font-color1, white)));\n",
       "    --sklearn-color-icon: #878787;\n",
       "  }\n",
       "}\n",
       "\n",
       "#sk-container-id-3 {\n",
       "  color: var(--sklearn-color-text);\n",
       "}\n",
       "\n",
       "#sk-container-id-3 pre {\n",
       "  padding: 0;\n",
       "}\n",
       "\n",
       "#sk-container-id-3 input.sk-hidden--visually {\n",
       "  border: 0;\n",
       "  clip: rect(1px 1px 1px 1px);\n",
       "  clip: rect(1px, 1px, 1px, 1px);\n",
       "  height: 1px;\n",
       "  margin: -1px;\n",
       "  overflow: hidden;\n",
       "  padding: 0;\n",
       "  position: absolute;\n",
       "  width: 1px;\n",
       "}\n",
       "\n",
       "#sk-container-id-3 div.sk-dashed-wrapped {\n",
       "  border: 1px dashed var(--sklearn-color-line);\n",
       "  margin: 0 0.4em 0.5em 0.4em;\n",
       "  box-sizing: border-box;\n",
       "  padding-bottom: 0.4em;\n",
       "  background-color: var(--sklearn-color-background);\n",
       "}\n",
       "\n",
       "#sk-container-id-3 div.sk-container {\n",
       "  /* jupyter's `normalize.less` sets `[hidden] { display: none; }`\n",
       "     but bootstrap.min.css set `[hidden] { display: none !important; }`\n",
       "     so we also need the `!important` here to be able to override the\n",
       "     default hidden behavior on the sphinx rendered scikit-learn.org.\n",
       "     See: https://github.com/scikit-learn/scikit-learn/issues/21755 */\n",
       "  display: inline-block !important;\n",
       "  position: relative;\n",
       "}\n",
       "\n",
       "#sk-container-id-3 div.sk-text-repr-fallback {\n",
       "  display: none;\n",
       "}\n",
       "\n",
       "div.sk-parallel-item,\n",
       "div.sk-serial,\n",
       "div.sk-item {\n",
       "  /* draw centered vertical line to link estimators */\n",
       "  background-image: linear-gradient(var(--sklearn-color-text-on-default-background), var(--sklearn-color-text-on-default-background));\n",
       "  background-size: 2px 100%;\n",
       "  background-repeat: no-repeat;\n",
       "  background-position: center center;\n",
       "}\n",
       "\n",
       "/* Parallel-specific style estimator block */\n",
       "\n",
       "#sk-container-id-3 div.sk-parallel-item::after {\n",
       "  content: \"\";\n",
       "  width: 100%;\n",
       "  border-bottom: 2px solid var(--sklearn-color-text-on-default-background);\n",
       "  flex-grow: 1;\n",
       "}\n",
       "\n",
       "#sk-container-id-3 div.sk-parallel {\n",
       "  display: flex;\n",
       "  align-items: stretch;\n",
       "  justify-content: center;\n",
       "  background-color: var(--sklearn-color-background);\n",
       "  position: relative;\n",
       "}\n",
       "\n",
       "#sk-container-id-3 div.sk-parallel-item {\n",
       "  display: flex;\n",
       "  flex-direction: column;\n",
       "}\n",
       "\n",
       "#sk-container-id-3 div.sk-parallel-item:first-child::after {\n",
       "  align-self: flex-end;\n",
       "  width: 50%;\n",
       "}\n",
       "\n",
       "#sk-container-id-3 div.sk-parallel-item:last-child::after {\n",
       "  align-self: flex-start;\n",
       "  width: 50%;\n",
       "}\n",
       "\n",
       "#sk-container-id-3 div.sk-parallel-item:only-child::after {\n",
       "  width: 0;\n",
       "}\n",
       "\n",
       "/* Serial-specific style estimator block */\n",
       "\n",
       "#sk-container-id-3 div.sk-serial {\n",
       "  display: flex;\n",
       "  flex-direction: column;\n",
       "  align-items: center;\n",
       "  background-color: var(--sklearn-color-background);\n",
       "  padding-right: 1em;\n",
       "  padding-left: 1em;\n",
       "}\n",
       "\n",
       "\n",
       "/* Toggleable style: style used for estimator/Pipeline/ColumnTransformer box that is\n",
       "clickable and can be expanded/collapsed.\n",
       "- Pipeline and ColumnTransformer use this feature and define the default style\n",
       "- Estimators will overwrite some part of the style using the `sk-estimator` class\n",
       "*/\n",
       "\n",
       "/* Pipeline and ColumnTransformer style (default) */\n",
       "\n",
       "#sk-container-id-3 div.sk-toggleable {\n",
       "  /* Default theme specific background. It is overwritten whether we have a\n",
       "  specific estimator or a Pipeline/ColumnTransformer */\n",
       "  background-color: var(--sklearn-color-background);\n",
       "}\n",
       "\n",
       "/* Toggleable label */\n",
       "#sk-container-id-3 label.sk-toggleable__label {\n",
       "  cursor: pointer;\n",
       "  display: flex;\n",
       "  width: 100%;\n",
       "  margin-bottom: 0;\n",
       "  padding: 0.5em;\n",
       "  box-sizing: border-box;\n",
       "  text-align: center;\n",
       "  align-items: start;\n",
       "  justify-content: space-between;\n",
       "  gap: 0.5em;\n",
       "}\n",
       "\n",
       "#sk-container-id-3 label.sk-toggleable__label .caption {\n",
       "  font-size: 0.6rem;\n",
       "  font-weight: lighter;\n",
       "  color: var(--sklearn-color-text-muted);\n",
       "}\n",
       "\n",
       "#sk-container-id-3 label.sk-toggleable__label-arrow:before {\n",
       "  /* Arrow on the left of the label */\n",
       "  content: \"▸\";\n",
       "  float: left;\n",
       "  margin-right: 0.25em;\n",
       "  color: var(--sklearn-color-icon);\n",
       "}\n",
       "\n",
       "#sk-container-id-3 label.sk-toggleable__label-arrow:hover:before {\n",
       "  color: var(--sklearn-color-text);\n",
       "}\n",
       "\n",
       "/* Toggleable content - dropdown */\n",
       "\n",
       "#sk-container-id-3 div.sk-toggleable__content {\n",
       "  max-height: 0;\n",
       "  max-width: 0;\n",
       "  overflow: hidden;\n",
       "  text-align: left;\n",
       "  /* unfitted */\n",
       "  background-color: var(--sklearn-color-unfitted-level-0);\n",
       "}\n",
       "\n",
       "#sk-container-id-3 div.sk-toggleable__content.fitted {\n",
       "  /* fitted */\n",
       "  background-color: var(--sklearn-color-fitted-level-0);\n",
       "}\n",
       "\n",
       "#sk-container-id-3 div.sk-toggleable__content pre {\n",
       "  margin: 0.2em;\n",
       "  border-radius: 0.25em;\n",
       "  color: var(--sklearn-color-text);\n",
       "  /* unfitted */\n",
       "  background-color: var(--sklearn-color-unfitted-level-0);\n",
       "}\n",
       "\n",
       "#sk-container-id-3 div.sk-toggleable__content.fitted pre {\n",
       "  /* unfitted */\n",
       "  background-color: var(--sklearn-color-fitted-level-0);\n",
       "}\n",
       "\n",
       "#sk-container-id-3 input.sk-toggleable__control:checked~div.sk-toggleable__content {\n",
       "  /* Expand drop-down */\n",
       "  max-height: 200px;\n",
       "  max-width: 100%;\n",
       "  overflow: auto;\n",
       "}\n",
       "\n",
       "#sk-container-id-3 input.sk-toggleable__control:checked~label.sk-toggleable__label-arrow:before {\n",
       "  content: \"▾\";\n",
       "}\n",
       "\n",
       "/* Pipeline/ColumnTransformer-specific style */\n",
       "\n",
       "#sk-container-id-3 div.sk-label input.sk-toggleable__control:checked~label.sk-toggleable__label {\n",
       "  color: var(--sklearn-color-text);\n",
       "  background-color: var(--sklearn-color-unfitted-level-2);\n",
       "}\n",
       "\n",
       "#sk-container-id-3 div.sk-label.fitted input.sk-toggleable__control:checked~label.sk-toggleable__label {\n",
       "  background-color: var(--sklearn-color-fitted-level-2);\n",
       "}\n",
       "\n",
       "/* Estimator-specific style */\n",
       "\n",
       "/* Colorize estimator box */\n",
       "#sk-container-id-3 div.sk-estimator input.sk-toggleable__control:checked~label.sk-toggleable__label {\n",
       "  /* unfitted */\n",
       "  background-color: var(--sklearn-color-unfitted-level-2);\n",
       "}\n",
       "\n",
       "#sk-container-id-3 div.sk-estimator.fitted input.sk-toggleable__control:checked~label.sk-toggleable__label {\n",
       "  /* fitted */\n",
       "  background-color: var(--sklearn-color-fitted-level-2);\n",
       "}\n",
       "\n",
       "#sk-container-id-3 div.sk-label label.sk-toggleable__label,\n",
       "#sk-container-id-3 div.sk-label label {\n",
       "  /* The background is the default theme color */\n",
       "  color: var(--sklearn-color-text-on-default-background);\n",
       "}\n",
       "\n",
       "/* On hover, darken the color of the background */\n",
       "#sk-container-id-3 div.sk-label:hover label.sk-toggleable__label {\n",
       "  color: var(--sklearn-color-text);\n",
       "  background-color: var(--sklearn-color-unfitted-level-2);\n",
       "}\n",
       "\n",
       "/* Label box, darken color on hover, fitted */\n",
       "#sk-container-id-3 div.sk-label.fitted:hover label.sk-toggleable__label.fitted {\n",
       "  color: var(--sklearn-color-text);\n",
       "  background-color: var(--sklearn-color-fitted-level-2);\n",
       "}\n",
       "\n",
       "/* Estimator label */\n",
       "\n",
       "#sk-container-id-3 div.sk-label label {\n",
       "  font-family: monospace;\n",
       "  font-weight: bold;\n",
       "  display: inline-block;\n",
       "  line-height: 1.2em;\n",
       "}\n",
       "\n",
       "#sk-container-id-3 div.sk-label-container {\n",
       "  text-align: center;\n",
       "}\n",
       "\n",
       "/* Estimator-specific */\n",
       "#sk-container-id-3 div.sk-estimator {\n",
       "  font-family: monospace;\n",
       "  border: 1px dotted var(--sklearn-color-border-box);\n",
       "  border-radius: 0.25em;\n",
       "  box-sizing: border-box;\n",
       "  margin-bottom: 0.5em;\n",
       "  /* unfitted */\n",
       "  background-color: var(--sklearn-color-unfitted-level-0);\n",
       "}\n",
       "\n",
       "#sk-container-id-3 div.sk-estimator.fitted {\n",
       "  /* fitted */\n",
       "  background-color: var(--sklearn-color-fitted-level-0);\n",
       "}\n",
       "\n",
       "/* on hover */\n",
       "#sk-container-id-3 div.sk-estimator:hover {\n",
       "  /* unfitted */\n",
       "  background-color: var(--sklearn-color-unfitted-level-2);\n",
       "}\n",
       "\n",
       "#sk-container-id-3 div.sk-estimator.fitted:hover {\n",
       "  /* fitted */\n",
       "  background-color: var(--sklearn-color-fitted-level-2);\n",
       "}\n",
       "\n",
       "/* Specification for estimator info (e.g. \"i\" and \"?\") */\n",
       "\n",
       "/* Common style for \"i\" and \"?\" */\n",
       "\n",
       ".sk-estimator-doc-link,\n",
       "a:link.sk-estimator-doc-link,\n",
       "a:visited.sk-estimator-doc-link {\n",
       "  float: right;\n",
       "  font-size: smaller;\n",
       "  line-height: 1em;\n",
       "  font-family: monospace;\n",
       "  background-color: var(--sklearn-color-background);\n",
       "  border-radius: 1em;\n",
       "  height: 1em;\n",
       "  width: 1em;\n",
       "  text-decoration: none !important;\n",
       "  margin-left: 0.5em;\n",
       "  text-align: center;\n",
       "  /* unfitted */\n",
       "  border: var(--sklearn-color-unfitted-level-1) 1pt solid;\n",
       "  color: var(--sklearn-color-unfitted-level-1);\n",
       "}\n",
       "\n",
       ".sk-estimator-doc-link.fitted,\n",
       "a:link.sk-estimator-doc-link.fitted,\n",
       "a:visited.sk-estimator-doc-link.fitted {\n",
       "  /* fitted */\n",
       "  border: var(--sklearn-color-fitted-level-1) 1pt solid;\n",
       "  color: var(--sklearn-color-fitted-level-1);\n",
       "}\n",
       "\n",
       "/* On hover */\n",
       "div.sk-estimator:hover .sk-estimator-doc-link:hover,\n",
       ".sk-estimator-doc-link:hover,\n",
       "div.sk-label-container:hover .sk-estimator-doc-link:hover,\n",
       ".sk-estimator-doc-link:hover {\n",
       "  /* unfitted */\n",
       "  background-color: var(--sklearn-color-unfitted-level-3);\n",
       "  color: var(--sklearn-color-background);\n",
       "  text-decoration: none;\n",
       "}\n",
       "\n",
       "div.sk-estimator.fitted:hover .sk-estimator-doc-link.fitted:hover,\n",
       ".sk-estimator-doc-link.fitted:hover,\n",
       "div.sk-label-container:hover .sk-estimator-doc-link.fitted:hover,\n",
       ".sk-estimator-doc-link.fitted:hover {\n",
       "  /* fitted */\n",
       "  background-color: var(--sklearn-color-fitted-level-3);\n",
       "  color: var(--sklearn-color-background);\n",
       "  text-decoration: none;\n",
       "}\n",
       "\n",
       "/* Span, style for the box shown on hovering the info icon */\n",
       ".sk-estimator-doc-link span {\n",
       "  display: none;\n",
       "  z-index: 9999;\n",
       "  position: relative;\n",
       "  font-weight: normal;\n",
       "  right: .2ex;\n",
       "  padding: .5ex;\n",
       "  margin: .5ex;\n",
       "  width: min-content;\n",
       "  min-width: 20ex;\n",
       "  max-width: 50ex;\n",
       "  color: var(--sklearn-color-text);\n",
       "  box-shadow: 2pt 2pt 4pt #999;\n",
       "  /* unfitted */\n",
       "  background: var(--sklearn-color-unfitted-level-0);\n",
       "  border: .5pt solid var(--sklearn-color-unfitted-level-3);\n",
       "}\n",
       "\n",
       ".sk-estimator-doc-link.fitted span {\n",
       "  /* fitted */\n",
       "  background: var(--sklearn-color-fitted-level-0);\n",
       "  border: var(--sklearn-color-fitted-level-3);\n",
       "}\n",
       "\n",
       ".sk-estimator-doc-link:hover span {\n",
       "  display: block;\n",
       "}\n",
       "\n",
       "/* \"?\"-specific style due to the `<a>` HTML tag */\n",
       "\n",
       "#sk-container-id-3 a.estimator_doc_link {\n",
       "  float: right;\n",
       "  font-size: 1rem;\n",
       "  line-height: 1em;\n",
       "  font-family: monospace;\n",
       "  background-color: var(--sklearn-color-background);\n",
       "  border-radius: 1rem;\n",
       "  height: 1rem;\n",
       "  width: 1rem;\n",
       "  text-decoration: none;\n",
       "  /* unfitted */\n",
       "  color: var(--sklearn-color-unfitted-level-1);\n",
       "  border: var(--sklearn-color-unfitted-level-1) 1pt solid;\n",
       "}\n",
       "\n",
       "#sk-container-id-3 a.estimator_doc_link.fitted {\n",
       "  /* fitted */\n",
       "  border: var(--sklearn-color-fitted-level-1) 1pt solid;\n",
       "  color: var(--sklearn-color-fitted-level-1);\n",
       "}\n",
       "\n",
       "/* On hover */\n",
       "#sk-container-id-3 a.estimator_doc_link:hover {\n",
       "  /* unfitted */\n",
       "  background-color: var(--sklearn-color-unfitted-level-3);\n",
       "  color: var(--sklearn-color-background);\n",
       "  text-decoration: none;\n",
       "}\n",
       "\n",
       "#sk-container-id-3 a.estimator_doc_link.fitted:hover {\n",
       "  /* fitted */\n",
       "  background-color: var(--sklearn-color-fitted-level-3);\n",
       "}\n",
       "</style><div id=\"sk-container-id-3\" class=\"sk-top-container\"><div class=\"sk-text-repr-fallback\"><pre>GridSearchCV(cv=5,\n",
       "             estimator=Pipeline(steps=[(&#x27;simpleimputer&#x27;,\n",
       "                                        SimpleImputer(strategy=&#x27;median&#x27;)),\n",
       "                                       (&#x27;selectkbest&#x27;,\n",
       "                                        SelectKBest(k=15,\n",
       "                                                    score_func=&lt;function f_regression at 0x7f92bc8cd0d0&gt;)),\n",
       "                                       (&#x27;linearregression&#x27;,\n",
       "                                        LinearRegression())]),\n",
       "             n_jobs=-1,\n",
       "             param_grid={&#x27;selectkbest__k&#x27;: [1, 2, 3, 4, 5, 6, 7, 8, 9, 10, 11,\n",
       "                                            12, 13, 14, 15, 16, 17, 18, 19, 20,\n",
       "                                            21, 22, 23, 24, 25, 26, 27, 28, 29,\n",
       "                                            30, ...]})</pre><b>In a Jupyter environment, please rerun this cell to show the HTML representation or trust the notebook. <br />On GitHub, the HTML representation is unable to render, please try loading this page with nbviewer.org.</b></div><div class=\"sk-container\" hidden><div class=\"sk-item sk-dashed-wrapped\"><div class=\"sk-label-container\"><div class=\"sk-label fitted sk-toggleable\"><input class=\"sk-toggleable__control sk-hidden--visually\" id=\"sk-estimator-id-8\" type=\"checkbox\" ><label for=\"sk-estimator-id-8\" class=\"sk-toggleable__label fitted sk-toggleable__label-arrow\"><div><div>GridSearchCV</div></div><div><a class=\"sk-estimator-doc-link fitted\" rel=\"noreferrer\" target=\"_blank\" href=\"https://scikit-learn.org/1.6/modules/generated/sklearn.model_selection.GridSearchCV.html\">?<span>Documentation for GridSearchCV</span></a><span class=\"sk-estimator-doc-link fitted\">i<span>Fitted</span></span></div></label><div class=\"sk-toggleable__content fitted\"><pre>GridSearchCV(cv=5,\n",
       "             estimator=Pipeline(steps=[(&#x27;simpleimputer&#x27;,\n",
       "                                        SimpleImputer(strategy=&#x27;median&#x27;)),\n",
       "                                       (&#x27;selectkbest&#x27;,\n",
       "                                        SelectKBest(k=15,\n",
       "                                                    score_func=&lt;function f_regression at 0x7f92bc8cd0d0&gt;)),\n",
       "                                       (&#x27;linearregression&#x27;,\n",
       "                                        LinearRegression())]),\n",
       "             n_jobs=-1,\n",
       "             param_grid={&#x27;selectkbest__k&#x27;: [1, 2, 3, 4, 5, 6, 7, 8, 9, 10, 11,\n",
       "                                            12, 13, 14, 15, 16, 17, 18, 19, 20,\n",
       "                                            21, 22, 23, 24, 25, 26, 27, 28, 29,\n",
       "                                            30, ...]})</pre></div> </div></div><div class=\"sk-parallel\"><div class=\"sk-parallel-item\"><div class=\"sk-item\"><div class=\"sk-label-container\"><div class=\"sk-label fitted sk-toggleable\"><input class=\"sk-toggleable__control sk-hidden--visually\" id=\"sk-estimator-id-9\" type=\"checkbox\" ><label for=\"sk-estimator-id-9\" class=\"sk-toggleable__label fitted sk-toggleable__label-arrow\"><div><div>best_estimator_: Pipeline</div></div></label><div class=\"sk-toggleable__content fitted\"><pre>Pipeline(steps=[(&#x27;simpleimputer&#x27;, SimpleImputer(strategy=&#x27;median&#x27;)),\n",
       "                (&#x27;selectkbest&#x27;,\n",
       "                 SelectKBest(k=68,\n",
       "                             score_func=&lt;function f_regression at 0x7f92bc8cd0d0&gt;)),\n",
       "                (&#x27;linearregression&#x27;, LinearRegression())])</pre></div> </div></div><div class=\"sk-serial\"><div class=\"sk-item\"><div class=\"sk-serial\"><div class=\"sk-item\"><div class=\"sk-estimator fitted sk-toggleable\"><input class=\"sk-toggleable__control sk-hidden--visually\" id=\"sk-estimator-id-10\" type=\"checkbox\" ><label for=\"sk-estimator-id-10\" class=\"sk-toggleable__label fitted sk-toggleable__label-arrow\"><div><div>SimpleImputer</div></div><div><a class=\"sk-estimator-doc-link fitted\" rel=\"noreferrer\" target=\"_blank\" href=\"https://scikit-learn.org/1.6/modules/generated/sklearn.impute.SimpleImputer.html\">?<span>Documentation for SimpleImputer</span></a></div></label><div class=\"sk-toggleable__content fitted\"><pre>SimpleImputer(strategy=&#x27;median&#x27;)</pre></div> </div></div><div class=\"sk-item\"><div class=\"sk-estimator fitted sk-toggleable\"><input class=\"sk-toggleable__control sk-hidden--visually\" id=\"sk-estimator-id-11\" type=\"checkbox\" ><label for=\"sk-estimator-id-11\" class=\"sk-toggleable__label fitted sk-toggleable__label-arrow\"><div><div>SelectKBest</div></div><div><a class=\"sk-estimator-doc-link fitted\" rel=\"noreferrer\" target=\"_blank\" href=\"https://scikit-learn.org/1.6/modules/generated/sklearn.feature_selection.SelectKBest.html\">?<span>Documentation for SelectKBest</span></a></div></label><div class=\"sk-toggleable__content fitted\"><pre>SelectKBest(k=68, score_func=&lt;function f_regression at 0x7f92bc8cd0d0&gt;)</pre></div> </div></div><div class=\"sk-item\"><div class=\"sk-estimator fitted sk-toggleable\"><input class=\"sk-toggleable__control sk-hidden--visually\" id=\"sk-estimator-id-12\" type=\"checkbox\" ><label for=\"sk-estimator-id-12\" class=\"sk-toggleable__label fitted sk-toggleable__label-arrow\"><div><div>LinearRegression</div></div><div><a class=\"sk-estimator-doc-link fitted\" rel=\"noreferrer\" target=\"_blank\" href=\"https://scikit-learn.org/1.6/modules/generated/sklearn.linear_model.LinearRegression.html\">?<span>Documentation for LinearRegression</span></a></div></label><div class=\"sk-toggleable__content fitted\"><pre>LinearRegression()</pre></div> </div></div></div></div></div></div></div></div></div></div></div>"
      ],
      "text/plain": [
       "GridSearchCV(cv=5,\n",
       "             estimator=Pipeline(steps=[('simpleimputer',\n",
       "                                        SimpleImputer(strategy='median')),\n",
       "                                       ('selectkbest',\n",
       "                                        SelectKBest(k=15,\n",
       "                                                    score_func=<function f_regression at 0x7f92bc8cd0d0>)),\n",
       "                                       ('linearregression',\n",
       "                                        LinearRegression())]),\n",
       "             n_jobs=-1,\n",
       "             param_grid={'selectkbest__k': [1, 2, 3, 4, 5, 6, 7, 8, 9, 10, 11,\n",
       "                                            12, 13, 14, 15, 16, 17, 18, 19, 20,\n",
       "                                            21, 22, 23, 24, 25, 26, 27, 28, 29,\n",
       "                                            30, ...]})"
      ]
     },
     "execution_count": 59,
     "metadata": {},
     "output_type": "execute_result"
    }
   ],
   "source": [
    "lr_grid_cv.fit(X_train, y_train)"
   ]
  },
  {
   "cell_type": "code",
   "execution_count": 60,
   "id": "b1baa0ab-1dd2-44fd-9cf4-7feb9bf6ffb1",
   "metadata": {},
   "outputs": [],
   "source": [
    "score_mean = lr_grid_cv.cv_results_['mean_test_score']\n",
    "score_std = lr_grid_cv.cv_results_['std_test_score']\n",
    "cv_k = [k for k in lr_grid_cv.cv_results_['param_selectkbest__k']]"
   ]
  },
  {
   "cell_type": "code",
   "execution_count": 61,
   "id": "c5ed20a0-a6d6-48c1-b0e0-4643e64df47b",
   "metadata": {},
   "outputs": [
    {
     "data": {
      "text/plain": [
       "{'selectkbest__k': 68}"
      ]
     },
     "execution_count": 61,
     "metadata": {},
     "output_type": "execute_result"
    }
   ],
   "source": [
    "lr_grid_cv.best_params_"
   ]
  },
  {
   "cell_type": "code",
   "execution_count": 62,
   "id": "bd0d1bf3-5042-4afc-9c94-98b8a2630852",
   "metadata": {},
   "outputs": [
    {
     "data": {
      "image/png": "[encoded data removed]",
      "text/plain": [
       "<Figure size 1000x500 with 1 Axes>"
      ]
     },
     "metadata": {},
     "output_type": "display_data"
    }
   ],
   "source": [
    "best_k = lr_grid_cv.best_params_['selectkbest__k']\n",
    "plt.subplots(figsize=(10, 5))\n",
    "plt.errorbar(cv_k, score_mean, yerr=score_std)\n",
    "plt.axvline(x=best_k, c='r', ls='--', alpha=.5)\n",
    "plt.xlabel('k')\n",
    "plt.ylabel('CV score (r-squared)')\n",
    "plt.title('Pipeline mean CV score (error bars +/- 1sd)');"
   ]
  },
  {
   "cell_type": "markdown",
   "id": "dc1651b5-749d-49b6-8888-6c7e7a8e1b53",
   "metadata": {},
   "source": [
    "The above suggests a good value for k for this linear regression model is 68. "
   ]
  },
  {
   "cell_type": "code",
   "execution_count": 64,
   "id": "40a42905-ff1a-444f-9f32-f235e5518999",
   "metadata": {},
   "outputs": [
    {
     "data": {
      "text/plain": [
       "Class_Premium                 28153.877977\n",
       "Route_Kolkata to Delhi         7305.003143\n",
       "Route_Delhi to Kolkata         7278.804172\n",
       "Route_Kolkata to Mumbai        6365.114079\n",
       "Route_Kolkata to Bangalore     5392.856188\n",
       "                                  ...     \n",
       "Airline_Indigo                -5334.922191\n",
       "Airline_SpiceJet              -5461.462795\n",
       "Booking_Category_Planned      -6152.606432\n",
       "Airline_AirAsia               -6870.251816\n",
       "Total_stops_non-stop          -9009.499446\n",
       "Length: 68, dtype: float64"
      ]
     },
     "execution_count": 64,
     "metadata": {},
     "output_type": "execute_result"
    }
   ],
   "source": [
    "selected = lr_grid_cv.best_estimator_.named_steps.selectkbest.get_support()\n",
    "coefs = lr_grid_cv.best_estimator_.named_steps.linearregression.coef_\n",
    "features = X_train.columns[selected]\n",
    "pd.Series(coefs, index=features).sort_values(ascending=False)"
   ]
  },
  {
   "cell_type": "markdown",
   "id": "2c06d556-24f1-40ba-a3cb-bca8fc245208",
   "metadata": {},
   "source": [
    "These results suggest that the premium class is the biggest positive feature, meaning it increases the price. This makes intuitive sense and is consistent with what we saw during the EDA work. Also, you see the Routes from Kolkata have a strong positive influence as well. Non-stop flights are negatively associated with airfare. This seems accurate. People will pay less for non-stop flights; people want the least amount of travel time possible to get to their destination faster."
   ]
  },
  {
   "cell_type": "markdown",
   "id": "6d6e8260-f23c-4cd9-922a-663fc73de560",
   "metadata": {},
   "source": [
    "## Gradient Boosting Regressor"
   ]
  },
  {
   "cell_type": "markdown",
   "id": "605796f6-07ec-44db-9726-f330a0ef55a0",
   "metadata": {},
   "source": [
    "Let's test our data on a different type of model, Gradient Boosting Regressor. It may be more optimal for our dataset because it is better at handling complex datasets such as ours and it is robust to outliers which our dataset is abundant in."
   ]
  },
  {
   "cell_type": "code",
   "execution_count": 132,
   "id": "54747035-cd3a-426a-8204-99fccff7c5a0",
   "metadata": {
    "tags": []
   },
   "outputs": [],
   "source": [
    "GB_pipe = make_pipeline(\n",
    "    SimpleImputer(strategy='median'),\n",
    "    GradientBoostingRegressor(random_state=47)\n",
    ")"
   ]
  },
  {
   "cell_type": "code",
   "execution_count": 136,
   "id": "4f84136b-eaf4-4383-bcc2-7e7089be399e",
   "metadata": {},
   "outputs": [],
   "source": [
    "rf_default_cv_results = cross_validate(GB_pipe, X_train, y_train, cv=15)"
   ]
  },
  {
   "cell_type": "code",
   "execution_count": 142,
   "id": "b781c58a-6ac3-4abb-a4ad-85fab3a95ddb",
   "metadata": {},
   "outputs": [
    {
     "data": {
      "text/plain": [
       "array([0.59929708, 0.60344487, 0.60345903, 0.61005745, 0.60698114,\n",
       "       0.60624827, 0.60296461, 0.60699831, 0.60323244, 0.60404205,\n",
       "       0.59738051, 0.60075672, 0.60511925, 0.60133235, 0.60667337])"
      ]
     },
     "execution_count": 142,
     "metadata": {},
     "output_type": "execute_result"
    }
   ],
   "source": [
    "gb_cv_scores = rf_default_cv_results['test_score']\n",
    "gb_cv_scores"
   ]
  },
  {
   "cell_type": "code",
   "execution_count": 144,
   "id": "3a6e8f42-3b75-462d-8f8d-c5ab2764bd61",
   "metadata": {},
   "outputs": [
    {
     "data": {
      "text/plain": [
       "(0.6038658300234008, 0.003199877065001775)"
      ]
     },
     "execution_count": 144,
     "metadata": {},
     "output_type": "execute_result"
    }
   ],
   "source": [
    "np.mean(gb_cv_scores), np.std(gb_cv_scores)"
   ]
  },
  {
   "cell_type": "markdown",
   "id": "aa2d03ef-5664-437d-bd95-0e324239f743",
   "metadata": {},
   "source": [
    "Gradient Boosting has a number of hyperparameters that can be explored, however here we'll limit ourselves to exploring some different values for the number of trees."
   ]
  },
  {
   "cell_type": "code",
   "execution_count": 146,
   "id": "049458fc-1e3f-4d90-bb8a-2cc6a0f55525",
   "metadata": {},
   "outputs": [],
   "source": [
    "params = {\n",
    "    'gradientboostingregressor__n_estimators': [50, 100, 200],\n",
    "    'gradientboostingregressor__learning_rate': [0.01, 0.1, 0.2, 0.3],\n",
    "    'gradientboostingregressor__max_depth': [3, 5, 7],\n",
    "    'gradientboostingregressor__min_samples_split': [2, 5, 10]\n",
    "}"
   ]
  },
  {
   "cell_type": "code",
   "execution_count": 148,
   "id": "d0130c15-d428-4ff7-b93a-15c40d6afb93",
   "metadata": {},
   "outputs": [],
   "source": [
    "random_search = RandomizedSearchCV(estimator=GB_pipe, param_distributions=params,\n",
    "                                   n_iter=25, cv=3, n_jobs=-1, verbose=2, random_state=42)"
   ]
  },
  {
   "cell_type": "code",
   "execution_count": 150,
   "id": "c04d9f4f-595f-4785-be3f-eafb5dfed1bb",
   "metadata": {},
   "outputs": [
    {
     "name": "stdout",
     "output_type": "stream",
     "text": [
      "Fitting 3 folds for each of 25 candidates, totalling 75 fits\n",
      "[CV] END gradientboostingregressor__learning_rate=0.2, gradientboostingregressor__max_depth=7, gradientboostingregressor__min_samples_split=5, gradientboostingregressor__n_estimators=200; total time= 5.7min\n",
      "[CV] END gradientboostingregressor__learning_rate=0.1, gradientboostingregressor__max_depth=3, gradientboostingregressor__min_samples_split=5, gradientboostingregressor__n_estimators=50; total time=  52.4s\n",
      "[CV] END gradientboostingregressor__learning_rate=0.3, gradientboostingregressor__max_depth=5, gradientboostingregressor__min_samples_split=5, gradientboostingregressor__n_estimators=200; total time= 5.3min\n",
      "[CV] END gradientboostingregressor__learning_rate=0.2, gradientboostingregressor__max_depth=7, gradientboostingregressor__min_samples_split=10, gradientboostingregressor__n_estimators=100; total time= 3.9min\n",
      "[CV] END gradientboostingregressor__learning_rate=0.2, gradientboostingregressor__max_depth=3, gradientboostingregressor__min_samples_split=2, gradientboostingregressor__n_estimators=200; total time= 3.7min\n",
      "[CV] END gradientboostingregressor__learning_rate=0.3, gradientboostingregressor__max_depth=7, gradientboostingregressor__min_samples_split=10, gradientboostingregressor__n_estimators=100; total time= 4.1min\n",
      "[CV] END gradientboostingregressor__learning_rate=0.2, gradientboostingregressor__max_depth=5, gradientboostingregressor__min_samples_split=2, gradientboostingregressor__n_estimators=100; total time= 2.6min\n",
      "[CV] END gradientboostingregressor__learning_rate=0.01, gradientboostingregressor__max_depth=5, gradientboostingregressor__min_samples_split=2, gradientboostingregressor__n_estimators=100; total time= 2.4min\n",
      "[CV] END gradientboostingregressor__learning_rate=0.3, gradientboostingregressor__max_depth=3, gradientboostingregressor__min_samples_split=2, gradientboostingregressor__n_estimators=200; total time= 2.3min\n",
      "[CV] END gradientboostingregressor__learning_rate=0.2, gradientboostingregressor__max_depth=5, gradientboostingregressor__min_samples_split=5, gradientboostingregressor__n_estimators=100; total time= 2.3min\n",
      "[CV] END gradientboostingregressor__learning_rate=0.01, gradientboostingregressor__max_depth=5, gradientboostingregressor__min_samples_split=2, gradientboostingregressor__n_estimators=200; total time= 5.6min\n",
      "[CV] END gradientboostingregressor__learning_rate=0.01, gradientboostingregressor__max_depth=3, gradientboostingregressor__min_samples_split=2, gradientboostingregressor__n_estimators=50; total time=  59.8s\n",
      "[CV] END gradientboostingregressor__learning_rate=0.2, gradientboostingregressor__max_depth=5, gradientboostingregressor__min_samples_split=10, gradientboostingregressor__n_estimators=50; total time= 1.4min\n",
      "[CV] END gradientboostingregressor__learning_rate=0.2, gradientboostingregressor__max_depth=5, gradientboostingregressor__min_samples_split=10, gradientboostingregressor__n_estimators=50; total time= 1.5min\n",
      "[CV] END gradientboostingregressor__learning_rate=0.2, gradientboostingregressor__max_depth=7, gradientboostingregressor__min_samples_split=5, gradientboostingregressor__n_estimators=100; total time= 4.2min\n",
      "[CV] END gradientboostingregressor__learning_rate=0.1, gradientboostingregressor__max_depth=5, gradientboostingregressor__min_samples_split=10, gradientboostingregressor__n_estimators=50; total time= 1.6min\n",
      "[CV] END gradientboostingregressor__learning_rate=0.01, gradientboostingregressor__max_depth=5, gradientboostingregressor__min_samples_split=5, gradientboostingregressor__n_estimators=50; total time= 1.6min\n",
      "[CV] END gradientboostingregressor__learning_rate=0.2, gradientboostingregressor__max_depth=5, gradientboostingregressor__min_samples_split=2, gradientboostingregressor__n_estimators=100; total time= 2.5min\n",
      "[CV] END gradientboostingregressor__learning_rate=0.01, gradientboostingregressor__max_depth=3, gradientboostingregressor__min_samples_split=5, gradientboostingregressor__n_estimators=100; total time= 1.6min\n",
      "[CV] END gradientboostingregressor__learning_rate=0.01, gradientboostingregressor__max_depth=3, gradientboostingregressor__min_samples_split=5, gradientboostingregressor__n_estimators=100; total time= 1.2min\n",
      "[CV] END gradientboostingregressor__learning_rate=0.2, gradientboostingregressor__max_depth=3, gradientboostingregressor__min_samples_split=10, gradientboostingregressor__n_estimators=200; total time= 2.3min\n",
      "[CV] END gradientboostingregressor__learning_rate=0.1, gradientboostingregressor__max_depth=3, gradientboostingregressor__min_samples_split=5, gradientboostingregressor__n_estimators=50; total time=  42.5s\n",
      "[CV] END gradientboostingregressor__learning_rate=0.1, gradientboostingregressor__max_depth=7, gradientboostingregressor__min_samples_split=2, gradientboostingregressor__n_estimators=50; total time= 1.9min\n",
      "[CV] END gradientboostingregressor__learning_rate=0.3, gradientboostingregressor__max_depth=3, gradientboostingregressor__min_samples_split=2, gradientboostingregressor__n_estimators=50; total time=  51.4s\n",
      "[CV] END gradientboostingregressor__learning_rate=0.3, gradientboostingregressor__max_depth=3, gradientboostingregressor__min_samples_split=2, gradientboostingregressor__n_estimators=50; total time=  47.1s\n",
      "[CV] END gradientboostingregressor__learning_rate=0.2, gradientboostingregressor__max_depth=7, gradientboostingregressor__min_samples_split=10, gradientboostingregressor__n_estimators=100; total time= 3.9min\n",
      "[CV] END gradientboostingregressor__learning_rate=0.01, gradientboostingregressor__max_depth=7, gradientboostingregressor__min_samples_split=2, gradientboostingregressor__n_estimators=50; total time= 2.1min\n",
      "[CV] END gradientboostingregressor__learning_rate=0.2, gradientboostingregressor__max_depth=3, gradientboostingregressor__min_samples_split=2, gradientboostingregressor__n_estimators=200; total time= 3.6min\n",
      "[CV] END gradientboostingregressor__learning_rate=0.2, gradientboostingregressor__max_depth=7, gradientboostingregressor__min_samples_split=5, gradientboostingregressor__n_estimators=100; total time= 4.1min\n",
      "[CV] END gradientboostingregressor__learning_rate=0.1, gradientboostingregressor__max_depth=5, gradientboostingregressor__min_samples_split=2, gradientboostingregressor__n_estimators=50; total time= 1.4min\n",
      "[CV] END gradientboostingregressor__learning_rate=0.01, gradientboostingregressor__max_depth=7, gradientboostingregressor__min_samples_split=5, gradientboostingregressor__n_estimators=100; total time= 3.4min\n",
      "[CV] END gradientboostingregressor__learning_rate=0.01, gradientboostingregressor__max_depth=5, gradientboostingregressor__min_samples_split=2, gradientboostingregressor__n_estimators=100; total time= 2.4min\n",
      "[CV] END gradientboostingregressor__learning_rate=0.2, gradientboostingregressor__max_depth=3, gradientboostingregressor__min_samples_split=10, gradientboostingregressor__n_estimators=200; total time= 2.3min\n",
      "[CV] END gradientboostingregressor__learning_rate=0.2, gradientboostingregressor__max_depth=5, gradientboostingregressor__min_samples_split=5, gradientboostingregressor__n_estimators=100; total time= 2.3min\n",
      "[CV] END gradientboostingregressor__learning_rate=0.01, gradientboostingregressor__max_depth=5, gradientboostingregressor__min_samples_split=2, gradientboostingregressor__n_estimators=200; total time= 5.7min\n",
      "[CV] END gradientboostingregressor__learning_rate=0.2, gradientboostingregressor__max_depth=7, gradientboostingregressor__min_samples_split=10, gradientboostingregressor__n_estimators=200; total time= 8.1min\n",
      "[CV] END gradientboostingregressor__learning_rate=0.3, gradientboostingregressor__max_depth=7, gradientboostingregressor__min_samples_split=10, gradientboostingregressor__n_estimators=100; total time= 3.9min\n",
      "[CV] END gradientboostingregressor__learning_rate=0.01, gradientboostingregressor__max_depth=7, gradientboostingregressor__min_samples_split=5, gradientboostingregressor__n_estimators=100; total time= 3.4min\n",
      "Best parameters found by RandomizedSearchCV: {'gradientboostingregressor__n_estimators': 200, 'gradientboostingregressor__min_samples_split': 10, 'gradientboostingregressor__max_depth': 7, 'gradientboostingregressor__learning_rate': 0.2}\n"
     ]
    }
   ],
   "source": [
    "random_search.fit(X_train, y_train)\n",
    "print(\"Best parameters found by RandomizedSearchCV:\", random_search.best_params_)"
   ]
  },
  {
   "cell_type": "code",
   "execution_count": 170,
   "id": "61096559-b33c-46c7-97af-02087a257a91",
   "metadata": {},
   "outputs": [
    {
     "name": "stdout",
     "output_type": "stream",
     "text": [
      "Best parameters found by RandomizedSearchCV: {'gradientboostingregressor__n_estimators': 200, 'gradientboostingregressor__min_samples_split': 10, 'gradientboostingregressor__max_depth': 7, 'gradientboostingregressor__learning_rate': 0.2}\n"
     ]
    }
   ],
   "source": [
    "print(\"Best parameters found by RandomizedSearchCV:\", random_search.best_params_)"
   ]
  },
  {
   "cell_type": "code",
   "execution_count": 172,
   "id": "3c004404-9aa5-4185-b9cc-258ca5cd8017",
   "metadata": {},
   "outputs": [
    {
     "name": "stdout",
     "output_type": "stream",
     "text": [
      "[CV] END gradientboostingregressor__learning_rate=0.2, gradientboostingregressor__max_depth=7, gradientboostingregressor__min_samples_split=5, gradientboostingregressor__n_estimators=200; total time= 5.7min\n",
      "[CV] END gradientboostingregressor__learning_rate=0.1, gradientboostingregressor__max_depth=3, gradientboostingregressor__min_samples_split=5, gradientboostingregressor__n_estimators=50; total time=  52.2s\n",
      "[CV] END gradientboostingregressor__learning_rate=0.3, gradientboostingregressor__max_depth=5, gradientboostingregressor__min_samples_split=5, gradientboostingregressor__n_estimators=200; total time= 5.3min\n",
      "[CV] END gradientboostingregressor__learning_rate=0.01, gradientboostingregressor__max_depth=3, gradientboostingregressor__min_samples_split=2, gradientboostingregressor__n_estimators=50; total time=  57.0s\n",
      "[CV] END gradientboostingregressor__learning_rate=0.2, gradientboostingregressor__max_depth=7, gradientboostingregressor__min_samples_split=10, gradientboostingregressor__n_estimators=200; total time= 8.1min\n",
      "[CV] END gradientboostingregressor__learning_rate=0.1, gradientboostingregressor__max_depth=5, gradientboostingregressor__min_samples_split=10, gradientboostingregressor__n_estimators=50; total time= 1.6min\n",
      "[CV] END gradientboostingregressor__learning_rate=0.01, gradientboostingregressor__max_depth=5, gradientboostingregressor__min_samples_split=5, gradientboostingregressor__n_estimators=50; total time= 1.5min\n",
      "[CV] END gradientboostingregressor__learning_rate=0.01, gradientboostingregressor__max_depth=7, gradientboostingregressor__min_samples_split=10, gradientboostingregressor__n_estimators=200; total time= 5.7min\n",
      "[CV] END gradientboostingregressor__learning_rate=0.2, gradientboostingregressor__max_depth=7, gradientboostingregressor__min_samples_split=5, gradientboostingregressor__n_estimators=200; total time= 5.7min\n",
      "[CV] END gradientboostingregressor__learning_rate=0.1, gradientboostingregressor__max_depth=7, gradientboostingregressor__min_samples_split=2, gradientboostingregressor__n_estimators=50; total time= 1.9min\n",
      "[CV] END gradientboostingregressor__learning_rate=0.01, gradientboostingregressor__max_depth=5, gradientboostingregressor__min_samples_split=2, gradientboostingregressor__n_estimators=200; total time= 5.6min\n",
      "[CV] END gradientboostingregressor__learning_rate=0.01, gradientboostingregressor__max_depth=7, gradientboostingregressor__min_samples_split=2, gradientboostingregressor__n_estimators=50; total time= 2.1min\n",
      "[CV] END gradientboostingregressor__learning_rate=0.2, gradientboostingregressor__max_depth=5, gradientboostingregressor__min_samples_split=10, gradientboostingregressor__n_estimators=50; total time= 1.5min\n",
      "[CV] END gradientboostingregressor__learning_rate=0.2, gradientboostingregressor__max_depth=7, gradientboostingregressor__min_samples_split=5, gradientboostingregressor__n_estimators=100; total time= 4.2min\n",
      "[CV] END gradientboostingregressor__learning_rate=0.1, gradientboostingregressor__max_depth=5, gradientboostingregressor__min_samples_split=10, gradientboostingregressor__n_estimators=50; total time= 1.6min\n",
      "[CV] END gradientboostingregressor__learning_rate=0.1, gradientboostingregressor__max_depth=5, gradientboostingregressor__min_samples_split=2, gradientboostingregressor__n_estimators=50; total time= 1.5min\n",
      "[CV] END gradientboostingregressor__learning_rate=0.01, gradientboostingregressor__max_depth=7, gradientboostingregressor__min_samples_split=10, gradientboostingregressor__n_estimators=200; total time= 5.7min\n",
      "[CV] END gradientboostingregressor__learning_rate=0.01, gradientboostingregressor__max_depth=3, gradientboostingregressor__min_samples_split=5, gradientboostingregressor__n_estimators=100; total time= 1.6min\n",
      "[CV] END gradientboostingregressor__learning_rate=0.3, gradientboostingregressor__max_depth=3, gradientboostingregressor__min_samples_split=2, gradientboostingregressor__n_estimators=200; total time= 2.3min\n",
      "[CV] END gradientboostingregressor__learning_rate=0.2, gradientboostingregressor__max_depth=3, gradientboostingregressor__min_samples_split=10, gradientboostingregressor__n_estimators=200; total time= 2.6min\n",
      "[CV] END gradientboostingregressor__learning_rate=0.1, gradientboostingregressor__max_depth=7, gradientboostingregressor__min_samples_split=2, gradientboostingregressor__n_estimators=50; total time= 1.9min\n",
      "[CV] END gradientboostingregressor__learning_rate=0.3, gradientboostingregressor__max_depth=3, gradientboostingregressor__min_samples_split=2, gradientboostingregressor__n_estimators=50; total time=  47.1s\n",
      "[CV] END gradientboostingregressor__learning_rate=0.2, gradientboostingregressor__max_depth=7, gradientboostingregressor__min_samples_split=10, gradientboostingregressor__n_estimators=100; total time= 3.9min\n",
      "[CV] END gradientboostingregressor__learning_rate=0.2, gradientboostingregressor__max_depth=7, gradientboostingregressor__min_samples_split=10, gradientboostingregressor__n_estimators=200; total time= 8.1min\n",
      "[CV] END gradientboostingregressor__learning_rate=0.01, gradientboostingregressor__max_depth=5, gradientboostingregressor__min_samples_split=5, gradientboostingregressor__n_estimators=50; total time= 1.6min\n",
      "[CV] END gradientboostingregressor__learning_rate=0.1, gradientboostingregressor__max_depth=5, gradientboostingregressor__min_samples_split=2, gradientboostingregressor__n_estimators=50; total time= 1.5min\n",
      "[CV] END gradientboostingregressor__learning_rate=0.01, gradientboostingregressor__max_depth=7, gradientboostingregressor__min_samples_split=10, gradientboostingregressor__n_estimators=200; total time= 5.6min\n"
     ]
    },
    {
     "data": {
      "text/plain": [
       "array([0.65557833, 0.65894419, 0.65344525])"
      ]
     },
     "execution_count": 172,
     "metadata": {},
     "output_type": "execute_result"
    }
   ],
   "source": [
    "gb_best_cv_results = cross_validate(random_search.best_estimator_, X_train, y_train, cv=3)\n",
    "gb_best_scores = gb_best_cv_results['test_score']\n",
    "gb_best_scores"
   ]
  },
  {
   "cell_type": "code",
   "execution_count": 176,
   "id": "879d0b1e-3432-4c0c-89f7-ddae2e6959c4",
   "metadata": {},
   "outputs": [
    {
     "data": {
      "text/plain": [
       "(0.655989254899917, 0.002263660941740931)"
      ]
     },
     "execution_count": 176,
     "metadata": {},
     "output_type": "execute_result"
    }
   ],
   "source": [
    "np.mean(gb_best_scores), np.std(gb_best_scores)"
   ]
  },
  {
   "cell_type": "code",
   "execution_count": 187,
   "id": "3d017e99-4e0d-4b8c-beb4-ce6b3a801f94",
   "metadata": {},
   "outputs": [
    {
     "data": {
      "image/png": "[encoded data removed]",
      "text/plain": [
       "<Figure size 2000x1000 with 1 Axes>"
      ]
     },
     "metadata": {},
     "output_type": "display_data"
    }
   ],
   "source": [
    "plt.subplots(figsize=(20, 10))\n",
    "imps = random_search.best_estimator_.named_steps['gradientboostingregressor'].feature_importances_\n",
    "\n",
    "gb_feat_imps = pd.Series(imps, index=X_train.columns).sort_values(ascending=False)\n",
    "gb_feat_imps.plot(kind='bar')\n",
    "plt.xlabel('features')\n",
    "#plt.xticks(rotation=45)\n",
    "plt.ylabel('importance')\n",
    "plt.title('Best random forest regressor feature importances');"
   ]
  },
  {
   "cell_type": "markdown",
   "id": "2bbde45a-19f9-4b7b-b5b7-b8023881c8db",
   "metadata": {},
   "source": [
    "Encouragingly, the dominant features are similar to the linear model:\n",
    "* Class_Premium\n",
    "* Total_stops_non-stop\n",
    "* Airline_Vistara\n",
    "* Total_stops_2+-stop"
   ]
  },
  {
   "cell_type": "markdown",
   "id": "608291f4-1ea7-4144-a0a9-0b39dd0e1d3e",
   "metadata": {},
   "source": [
    "## Final Model Selection"
   ]
  },
  {
   "cell_type": "markdown",
   "id": "aba2f963-19f6-4477-b3da-fd5a0da403c6",
   "metadata": {},
   "source": [
    "Time to select the final model to use for further business modeling! It would be good to revisit the above model selection; there is undoubtedly more that could be done to explore possible hyperparameters.\n",
    "It would also be worthwhile to investigate removing the least useful features. Gathering or calculating, and storing, features adds business cost and dependencies, so if features genuinely are not needed they should be removed.\n",
    "Building a simpler model with fewer features can also have the advantage of being easier to sell (and/or explain) to stakeholders.\n",
    "Certainly there seem to be four strong features here and so a model using only those would probably work well.\n",
    "However, we want to explore some different scenarios where other features vary so keep the fuller \n",
    "model for now. \n",
    "The business is waiting for this model and we have something that you have confidence in to be much better than guessing with the average price.\n",
    "\n",
    "Or, rather, we have two \"somethings\". You built a best linear model and a best gradient boosting model. we need to finally choose between them. We can calculate the mean absolute error using cross-validation. Although `cross-validate` defaults to the $R^2$, we can specify the mean absolute error as an alternative via\n",
    "the `scoring` parameter."
   ]
  },
  {
   "cell_type": "markdown",
   "id": "bab563fb-5214-48b4-bc33-bc176001c914",
   "metadata": {},
   "source": [
    "## Linear regression performance"
   ]
  },
  {
   "cell_type": "code",
   "execution_count": 212,
   "id": "58d59791-2939-4207-acdc-f22292114462",
   "metadata": {},
   "outputs": [],
   "source": [
    "# 'neg_mean_absolute_error' uses the (negative of) the mean absolute error\n",
    "lr_neg_mae = cross_validate(lr_grid_cv.best_estimator_, X_train, y_train, \n",
    "                            scoring='neg_mean_absolute_error', cv=5, n_jobs=-1)"
   ]
  },
  {
   "cell_type": "code",
   "execution_count": 215,
   "id": "104f35d7-c6ef-443f-a9b8-dca2acb33b12",
   "metadata": {},
   "outputs": [
    {
     "data": {
      "text/plain": [
       "(9427.20306532548, 47.83104725781245)"
      ]
     },
     "execution_count": 215,
     "metadata": {},
     "output_type": "execute_result"
    }
   ],
   "source": [
    "lr_mae_mean = np.mean(-1 * lr_neg_mae['test_score'])\n",
    "lr_mae_std = np.std(-1 * lr_neg_mae['test_score'])\n",
    "lr_mae_mean, lr_mae_std"
   ]
  },
  {
   "cell_type": "code",
   "execution_count": 217,
   "id": "5013f3a9-c804-4030-8c92-20a0a0fc7d86",
   "metadata": {},
   "outputs": [
    {
     "data": {
      "text/plain": [
       "9430.621712607834"
      ]
     },
     "execution_count": 217,
     "metadata": {},
     "output_type": "execute_result"
    }
   ],
   "source": [
    "mean_absolute_error(y_test, lr_grid_cv.best_estimator_.predict(X_test))"
   ]
  },
  {
   "cell_type": "markdown",
   "id": "83e5ca64-9a67-4f87-9d69-6f2eed96ff52",
   "metadata": {},
   "source": [
    "## Gradient Boosting Regressor Performance"
   ]
  },
  {
   "cell_type": "code",
   "execution_count": 224,
   "id": "cca1332b-b992-4f26-b1b4-721a9db6b24e",
   "metadata": {},
   "outputs": [],
   "source": [
    "gb_neg_mae = cross_validate(random_search.best_estimator_, X_train, y_train, \n",
    "                            scoring='neg_mean_absolute_error', cv=3, n_jobs=-1)"
   ]
  },
  {
   "cell_type": "code",
   "execution_count": 226,
   "id": "aa12d7e5-82c1-4384-9ac1-84dbddd57268",
   "metadata": {},
   "outputs": [
    {
     "data": {
      "text/plain": [
       "(7093.968683907214, 32.21912684793907)"
      ]
     },
     "execution_count": 226,
     "metadata": {},
     "output_type": "execute_result"
    }
   ],
   "source": [
    "gb_mae_mean = np.mean(-1 * gb_neg_mae['test_score'])\n",
    "gb_mae_std = np.std(-1 * gb_neg_mae['test_score'])\n",
    "gb_mae_mean, gb_mae_std"
   ]
  },
  {
   "cell_type": "code",
   "execution_count": 228,
   "id": "22b997a0-3af4-42c4-85c0-7c3a612cdfea",
   "metadata": {},
   "outputs": [
    {
     "data": {
      "text/plain": [
       "7103.268402855575"
      ]
     },
     "execution_count": 228,
     "metadata": {},
     "output_type": "execute_result"
    }
   ],
   "source": [
    "mean_absolute_error(y_test, random_search.best_estimator_.predict(X_test))"
   ]
  },
  {
   "cell_type": "markdown",
   "id": "01127cb0-da75-49b2-8304-d6c5ecc2b65c",
   "metadata": {
    "tags": []
   },
   "source": [
    "## Conclusion"
   ]
  },
  {
   "cell_type": "markdown",
   "id": "c8da679c-5246-42ef-af96-056a56dc4b5e",
   "metadata": {},
   "source": [
    "The Gradient Boosting model has a lower cross-validation mean absolute error by about 2340 rupies. It also exhibits less variability. Verifying performance on the test set produces performance consistent with the cross-validation results."
   ]
  },
  {
   "cell_type": "markdown",
   "id": "76c95661-f18a-4df1-9a17-393e5c31c5de",
   "metadata": {},
   "source": [
    "## Data quantity assessment"
   ]
  },
  {
   "cell_type": "markdown",
   "id": "22fd62e0-371e-4c72-9808-fbe3e7ff0100",
   "metadata": {},
   "source": [
    "Finally, we will check whether there needs to be further data collection. Assess this trade off by seeing how performance varies with differing data set sizes. The `learning_curve` function does this conveniently."
   ]
  },
  {
   "cell_type": "code",
   "execution_count": 242,
   "id": "17b1c99b-0092-4300-8861-e45fe1edc506",
   "metadata": {},
   "outputs": [],
   "source": [
    "fractions = [.2, .25, .3, .35, .4, .45, .5, .6, .75, .8, 1.0]\n",
    "train_size, train_scores, test_scores = learning_curve(GB_pipe, X_train, y_train, train_sizes=fractions)\n",
    "train_scores_mean = np.mean(train_scores, axis=1)\n",
    "train_scores_std = np.std(train_scores, axis=1)\n",
    "test_scores_mean = np.mean(test_scores, axis=1)\n",
    "test_scores_std = np.std(test_scores, axis=1)"
   ]
  },
  {
   "cell_type": "code",
   "execution_count": 254,
   "id": "8a3d56ac-3341-4d60-9c5c-61bf5b41e4f2",
   "metadata": {},
   "outputs": [
    {
     "data": {
      "image/png": "[encoded data removed]",
      "text/plain": [
       "<Figure size 1000x500 with 1 Axes>"
      ]
     },
     "metadata": {},
     "output_type": "display_data"
    }
   ],
   "source": [
    "plt.subplots(figsize=(10, 5))\n",
    "plt.errorbar(train_size, test_scores_mean, yerr=test_scores_std)\n",
    "plt.xlabel('Training set size')\n",
    "plt.ylabel('CV scores')\n",
    "plt.title('Cross-validation score as training set size increases');"
   ]
  },
  {
   "cell_type": "markdown",
   "id": "3eaa097f-3a54-4056-b6f4-9a294a4baf67",
   "metadata": {},
   "source": [
    "The model benefits from increasing the training data size, as the CV scores stabilize with reduced variability.\n",
    "However, around 150,000 samples, adding more data doesn't significantly improve performance, suggesting the model might be reaching its capacity."
   ]
  },
  {
   "cell_type": "markdown",
   "id": "514b43c8-49cd-40f8-9ccf-c83d03c2c298",
   "metadata": {},
   "source": [
    "## Save best model from pipeline"
   ]
  },
  {
   "cell_type": "code",
   "execution_count": 259,
   "id": "06f6333d-6d5b-4104-a31d-29b5e1431572",
   "metadata": {},
   "outputs": [],
   "source": [
    "from sklearn import __version__ as sklearn_version\n",
    "best_model = random_search.best_estimator_\n",
    "best_model.version = '1.0.4'\n",
    "best_model.pandas_version = pd.__version__\n",
    "best_model.numpy_version = np.__version__\n",
    "best_model.sklearn_version = sklearn_version\n",
    "best_model.X_columns = [col for col in X_train.columns]\n",
    "best_model.build_datetime = datetime.datetime.now()"
   ]
  },
  {
   "cell_type": "code",
   "execution_count": 272,
   "id": "7e8586fe-9063-47ca-887f-5013f46ef5f7",
   "metadata": {},
   "outputs": [
    {
     "name": "stdout",
     "output_type": "stream",
     "text": [
      "File saved at ../data/airfare_pricing_model.pkl\n"
     ]
    }
   ],
   "source": [
    "import os\n",
    "\n",
    "# Define the function to save the file\n",
    "def save_file(dataframe, filename, directory):\n",
    "    # Ensure the directory exists\n",
    "    os.makedirs(directory, exist_ok=True)\n",
    "    # Construct the full file path\n",
    "    filepath = os.path.join(directory, filename)\n",
    "    # Save the DataFrame to the CSV file\n",
    "    dataframe.to_csv(filepath, index=False)\n",
    "    print(f\"File saved at {filepath}\")\n",
    "\n",
    "# Example usage\n",
    "datapath = '../data'\n",
    "save_file(encoded, 'airfare_pricing_model.pkl', datapath)\n",
    "\n",
    "#modelpath = '../data'\n",
    "#save_file(best_model, 'airfare_pricing_model.pkl', modelpath)"
   ]
  },
  {
   "cell_type": "markdown",
   "id": "b4816918-dbc5-436d-b4be-19defd918f4f",
   "metadata": {},
   "source": [
    "## Conclusion"
   ]
  },
  {
   "cell_type": "markdown",
   "id": "3ca39915-e52b-4369-9dd7-816f114ddbac",
   "metadata": {},
   "source": [
    "We started with a baseline for median price which was about 13000 rupies for airfare in India. When the dummy regressor was used with the trained variables it also had a median of 13000 rupies, as well as the prediction. Then using the train_test_split linear regression model and training the data with a train sample size of 70% and a test sample size of 30%, we found that the mean absolute error 9500 rupies. This means that if the price were to be estimated it would be about 9500 rupies above or below average, which is not the best prediction, we could do better. The simple linear regression model explains about 56% of the variance on the train set and over 56% on the test set. The cross validation model using selectkbest stated that the best number of k was 68 and the feature that was of most importance to the influence on ticket price was Class_premium (which makes sense since any premium class seat will be more expensive) followed by non stop flights (which decreases the price of flights). The gradient boosting regressor was also tried using a similar pipeline to previous models to assess the performance of random search cross-validation, to reduce computation time. The estimated performance via cross-validation conveyed that the features of most importance were Class_Premium and total_stops_non-stop, which is inconsistent with the previous model. Between the linear regression model performance and the gradient boosting regression model performance there was about a 2000 rupies difference in the cross validation mean absolute error with the gradient boosting being lower (outperforming the simple linear regression model), this is why we will be moving forward with the gradient boosting regression model."
   ]
  },
  {
   "cell_type": "code",
   "execution_count": null,
   "id": "9a4d1a87-2bd3-41fb-8368-0a1b54025f50",
   "metadata": {},
   "outputs": [],
   "source": []
  }
 ],
 "metadata": {
  "kernelspec": {
   "display_name": "Python 3 (ipykernel)",
   "language": "python",
   "name": "python3"
  },
  "language_info": {
   "codemirror_mode": {
    "name": "ipython",
    "version": 3
   },
   "file_extension": ".py",
   "mimetype": "text/x-python",
   "name": "python",
   "nbconvert_exporter": "python",
   "pygments_lexer": "ipython3",
   "version": "3.9.19"
  }
 },
 "nbformat": 4,
 "nbformat_minor": 5
}
