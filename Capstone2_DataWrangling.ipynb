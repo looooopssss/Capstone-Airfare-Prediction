{
 "cells": [
  {
   "cell_type": "code",
   "execution_count": 1,
   "id": "bea14107-a8ef-4bae-be26-948f11c8c79e",
   "metadata": {},
   "outputs": [
    {
     "name": "stdout",
     "output_type": "stream",
     "text": [
      "  Date_of_journey Journey_day    Airline Flight_code    Class Source  \\\n",
      "0      2023-01-16      Monday   SpiceJet     SG-8169  Economy  Delhi   \n",
      "1      2023-01-16      Monday     Indigo     6E-2519  Economy  Delhi   \n",
      "2      2023-01-16      Monday   GO FIRST      G8-354  Economy  Delhi   \n",
      "3      2023-01-16      Monday   SpiceJet     SG-8709  Economy  Delhi   \n",
      "4      2023-01-16      Monday  Air India      AI-805  Economy  Delhi   \n",
      "\n",
      "    Departure Total_stops      Arrival Destination  Duration_in_hours  \\\n",
      "0  After 6 PM    non-stop   After 6 PM      Mumbai             2.0833   \n",
      "1  After 6 PM    non-stop  Before 6 AM      Mumbai             2.3333   \n",
      "2  After 6 PM    non-stop  Before 6 AM      Mumbai             2.1667   \n",
      "3  After 6 PM    non-stop   After 6 PM      Mumbai             2.0833   \n",
      "4  After 6 PM    non-stop   After 6 PM      Mumbai             2.1667   \n",
      "\n",
      "   Days_left  Fare  \n",
      "0          1  5335  \n",
      "1          1  5899  \n",
      "2          1  5801  \n",
      "3          1  5794  \n",
      "4          1  5955  \n"
     ]
    }
   ],
   "source": [
    "#data loading\n",
    "import pandas as pd\n",
    "import matplotlib.pyplot as plt\n",
    "df = pd.read_csv('Cleaned_dataset.csv')\n",
    "print(df.head())"
   ]
  },
  {
   "cell_type": "code",
   "execution_count": 2,
   "id": "e993ae49-e8c5-4980-a02b-ac7fa41d6fa4",
   "metadata": {},
   "outputs": [
    {
     "name": "stdout",
     "output_type": "stream",
     "text": [
      "<class 'pandas.core.frame.DataFrame'>\n",
      "RangeIndex: 452088 entries, 0 to 452087\n",
      "Data columns (total 13 columns):\n",
      " #   Column             Non-Null Count   Dtype  \n",
      "---  ------             --------------   -----  \n",
      " 0   Date_of_journey    452088 non-null  object \n",
      " 1   Journey_day        452088 non-null  object \n",
      " 2   Airline            452088 non-null  object \n",
      " 3   Flight_code        452088 non-null  object \n",
      " 4   Class              452088 non-null  object \n",
      " 5   Source             452088 non-null  object \n",
      " 6   Departure          452088 non-null  object \n",
      " 7   Total_stops        452088 non-null  object \n",
      " 8   Arrival            452088 non-null  object \n",
      " 9   Destination        452088 non-null  object \n",
      " 10  Duration_in_hours  452088 non-null  float64\n",
      " 11  Days_left          452088 non-null  int64  \n",
      " 12  Fare               452088 non-null  int64  \n",
      "dtypes: float64(1), int64(2), object(10)\n",
      "memory usage: 44.8+ MB\n"
     ]
    }
   ],
   "source": [
    "#understanding data features\n",
    "df.info()"
   ]
  },
  {
   "cell_type": "code",
   "execution_count": 3,
   "id": "ae2ccfad-d936-4858-b2f9-acca38e197fd",
   "metadata": {},
   "outputs": [
    {
     "name": "stdout",
     "output_type": "stream",
     "text": [
      "  Date_of_journey Journey_day    Airline Flight_code    Class Source  \\\n",
      "0      2023-01-16      Monday   SpiceJet     SG-8169  Economy  Delhi   \n",
      "1      2023-01-16      Monday     Indigo     6E-2519  Economy  Delhi   \n",
      "2      2023-01-16      Monday   GO FIRST      G8-354  Economy  Delhi   \n",
      "3      2023-01-16      Monday   SpiceJet     SG-8709  Economy  Delhi   \n",
      "4      2023-01-16      Monday  Air India      AI-805  Economy  Delhi   \n",
      "\n",
      "    Departure Total_stops      Arrival Destination  Duration_in_hours  \\\n",
      "0  After 6 PM    non-stop   After 6 PM      Mumbai             2.0833   \n",
      "1  After 6 PM    non-stop  Before 6 AM      Mumbai             2.3333   \n",
      "2  After 6 PM    non-stop  Before 6 AM      Mumbai             2.1667   \n",
      "3  After 6 PM    non-stop   After 6 PM      Mumbai             2.0833   \n",
      "4  After 6 PM    non-stop   After 6 PM      Mumbai             2.1667   \n",
      "\n",
      "   Days_left  Fare  Year  Month  Day  \n",
      "0          1  5335  2023      1   16  \n",
      "1          1  5899  2023      1   16  \n",
      "2          1  5801  2023      1   16  \n",
      "3          1  5794  2023      1   16  \n",
      "4          1  5955  2023      1   16  \n"
     ]
    }
   ],
   "source": [
    "#split dates into year, month and day columns\n",
    "df['Date_of_journey'] = pd.to_datetime(df['Date_of_journey'])\n",
    "df['Year'] = df['Date_of_journey'].dt.year\n",
    "df['Month'] = df['Date_of_journey'].dt.month\n",
    "df['Day'] = df['Date_of_journey'].dt.day\n",
    "\n",
    "print(df.head())"
   ]
  },
  {
   "cell_type": "code",
   "execution_count": 4,
   "id": "8d5048ad-4464-453d-bd7c-789a101d9d42",
   "metadata": {},
   "outputs": [
    {
     "data": {
      "text/plain": [
       "count    452088.000000\n",
       "mean      22840.100890\n",
       "std       20307.963002\n",
       "min        1307.000000\n",
       "25%        8762.750000\n",
       "50%       13407.000000\n",
       "75%       35587.000000\n",
       "max      143019.000000\n",
       "Name: Fare, dtype: float64"
      ]
     },
     "execution_count": 4,
     "metadata": {},
     "output_type": "execute_result"
    }
   ],
   "source": [
    "df['Fare'].describe()"
   ]
  },
  {
   "cell_type": "code",
   "execution_count": 5,
   "id": "5b0ac991-1e43-4bc4-99fe-bf14146271e5",
   "metadata": {},
   "outputs": [
    {
     "data": {
      "text/html": [
       "<div>\n",
       "<style scoped>\n",
       "    .dataframe tbody tr th:only-of-type {\n",
       "        vertical-align: middle;\n",
       "    }\n",
       "\n",
       "    .dataframe tbody tr th {\n",
       "        vertical-align: top;\n",
       "    }\n",
       "\n",
       "    .dataframe thead th {\n",
       "        text-align: right;\n",
       "    }\n",
       "</style>\n",
       "<table border=\"1\" class=\"dataframe\">\n",
       "  <thead>\n",
       "    <tr style=\"text-align: right;\">\n",
       "      <th></th>\n",
       "      <th>Date_of_journey</th>\n",
       "      <th>Journey_day</th>\n",
       "      <th>Airline</th>\n",
       "      <th>Flight_code</th>\n",
       "      <th>Class</th>\n",
       "      <th>Source</th>\n",
       "      <th>Departure</th>\n",
       "      <th>Total_stops</th>\n",
       "      <th>Arrival</th>\n",
       "      <th>Destination</th>\n",
       "      <th>Duration_in_hours</th>\n",
       "      <th>Days_left</th>\n",
       "      <th>Fare</th>\n",
       "      <th>Year</th>\n",
       "      <th>Month</th>\n",
       "      <th>Day</th>\n",
       "    </tr>\n",
       "  </thead>\n",
       "  <tbody>\n",
       "    <tr>\n",
       "      <th>19210</th>\n",
       "      <td>2023-01-16</td>\n",
       "      <td>Monday</td>\n",
       "      <td>Vistara</td>\n",
       "      <td>UK-627</td>\n",
       "      <td>Economy</td>\n",
       "      <td>Delhi</td>\n",
       "      <td>12 PM - 6 PM</td>\n",
       "      <td>2+-stop</td>\n",
       "      <td>After 6 PM</td>\n",
       "      <td>Bangalore</td>\n",
       "      <td>29.9167</td>\n",
       "      <td>1</td>\n",
       "      <td>11117</td>\n",
       "      <td>2023</td>\n",
       "      <td>1</td>\n",
       "      <td>16</td>\n",
       "    </tr>\n",
       "    <tr>\n",
       "      <th>129022</th>\n",
       "      <td>2023-01-16</td>\n",
       "      <td>Monday</td>\n",
       "      <td>Vistara</td>\n",
       "      <td>UK-853</td>\n",
       "      <td>Premium Economy</td>\n",
       "      <td>Mumbai</td>\n",
       "      <td>12 PM - 6 PM</td>\n",
       "      <td>2+-stop</td>\n",
       "      <td>6 AM - 12 PM</td>\n",
       "      <td>Kolkata</td>\n",
       "      <td>17.5833</td>\n",
       "      <td>1</td>\n",
       "      <td>20792</td>\n",
       "      <td>2023</td>\n",
       "      <td>1</td>\n",
       "      <td>16</td>\n",
       "    </tr>\n",
       "    <tr>\n",
       "      <th>129023</th>\n",
       "      <td>2023-01-16</td>\n",
       "      <td>Monday</td>\n",
       "      <td>Vistara</td>\n",
       "      <td>UK-853</td>\n",
       "      <td>Premium Economy</td>\n",
       "      <td>Mumbai</td>\n",
       "      <td>12 PM - 6 PM</td>\n",
       "      <td>2+-stop</td>\n",
       "      <td>6 AM - 12 PM</td>\n",
       "      <td>Kolkata</td>\n",
       "      <td>17.5833</td>\n",
       "      <td>1</td>\n",
       "      <td>20792</td>\n",
       "      <td>2023</td>\n",
       "      <td>1</td>\n",
       "      <td>16</td>\n",
       "    </tr>\n",
       "    <tr>\n",
       "      <th>129024</th>\n",
       "      <td>2023-01-16</td>\n",
       "      <td>Monday</td>\n",
       "      <td>Vistara</td>\n",
       "      <td>UK-853</td>\n",
       "      <td>Premium Economy</td>\n",
       "      <td>Mumbai</td>\n",
       "      <td>12 PM - 6 PM</td>\n",
       "      <td>2+-stop</td>\n",
       "      <td>6 AM - 12 PM</td>\n",
       "      <td>Kolkata</td>\n",
       "      <td>17.5833</td>\n",
       "      <td>1</td>\n",
       "      <td>20792</td>\n",
       "      <td>2023</td>\n",
       "      <td>1</td>\n",
       "      <td>16</td>\n",
       "    </tr>\n",
       "    <tr>\n",
       "      <th>129025</th>\n",
       "      <td>2023-01-16</td>\n",
       "      <td>Monday</td>\n",
       "      <td>Vistara</td>\n",
       "      <td>UK-853</td>\n",
       "      <td>Premium Economy</td>\n",
       "      <td>Mumbai</td>\n",
       "      <td>12 PM - 6 PM</td>\n",
       "      <td>2+-stop</td>\n",
       "      <td>After 6 PM</td>\n",
       "      <td>Kolkata</td>\n",
       "      <td>26.0833</td>\n",
       "      <td>1</td>\n",
       "      <td>20792</td>\n",
       "      <td>2023</td>\n",
       "      <td>1</td>\n",
       "      <td>16</td>\n",
       "    </tr>\n",
       "    <tr>\n",
       "      <th>...</th>\n",
       "      <td>...</td>\n",
       "      <td>...</td>\n",
       "      <td>...</td>\n",
       "      <td>...</td>\n",
       "      <td>...</td>\n",
       "      <td>...</td>\n",
       "      <td>...</td>\n",
       "      <td>...</td>\n",
       "      <td>...</td>\n",
       "      <td>...</td>\n",
       "      <td>...</td>\n",
       "      <td>...</td>\n",
       "      <td>...</td>\n",
       "      <td>...</td>\n",
       "      <td>...</td>\n",
       "      <td>...</td>\n",
       "    </tr>\n",
       "    <tr>\n",
       "      <th>415131</th>\n",
       "      <td>2023-03-06</td>\n",
       "      <td>Monday</td>\n",
       "      <td>Vistara</td>\n",
       "      <td>UK-918</td>\n",
       "      <td>Premium Economy</td>\n",
       "      <td>Ahmedabad</td>\n",
       "      <td>Before 6 AM</td>\n",
       "      <td>1-stop</td>\n",
       "      <td>After 6 PM</td>\n",
       "      <td>Delhi</td>\n",
       "      <td>17.2500</td>\n",
       "      <td>50</td>\n",
       "      <td>13911</td>\n",
       "      <td>2023</td>\n",
       "      <td>3</td>\n",
       "      <td>6</td>\n",
       "    </tr>\n",
       "    <tr>\n",
       "      <th>415132</th>\n",
       "      <td>2023-03-06</td>\n",
       "      <td>Monday</td>\n",
       "      <td>Vistara</td>\n",
       "      <td>UK-918</td>\n",
       "      <td>Premium Economy</td>\n",
       "      <td>Ahmedabad</td>\n",
       "      <td>Before 6 AM</td>\n",
       "      <td>1-stop</td>\n",
       "      <td>After 6 PM</td>\n",
       "      <td>Delhi</td>\n",
       "      <td>17.2500</td>\n",
       "      <td>50</td>\n",
       "      <td>13911</td>\n",
       "      <td>2023</td>\n",
       "      <td>3</td>\n",
       "      <td>6</td>\n",
       "    </tr>\n",
       "    <tr>\n",
       "      <th>153847</th>\n",
       "      <td>2023-03-06</td>\n",
       "      <td>Monday</td>\n",
       "      <td>Vistara</td>\n",
       "      <td>UK-625</td>\n",
       "      <td>Premium Economy</td>\n",
       "      <td>Mumbai</td>\n",
       "      <td>6 AM - 12 PM</td>\n",
       "      <td>2+-stop</td>\n",
       "      <td>After 6 PM</td>\n",
       "      <td>Chennai</td>\n",
       "      <td>12.1667</td>\n",
       "      <td>50</td>\n",
       "      <td>16106</td>\n",
       "      <td>2023</td>\n",
       "      <td>3</td>\n",
       "      <td>6</td>\n",
       "    </tr>\n",
       "    <tr>\n",
       "      <th>337936</th>\n",
       "      <td>2023-03-06</td>\n",
       "      <td>Monday</td>\n",
       "      <td>Vistara</td>\n",
       "      <td>UK-772</td>\n",
       "      <td>Economy</td>\n",
       "      <td>Kolkata</td>\n",
       "      <td>6 AM - 12 PM</td>\n",
       "      <td>1-stop</td>\n",
       "      <td>After 6 PM</td>\n",
       "      <td>Hyderabad</td>\n",
       "      <td>33.5833</td>\n",
       "      <td>50</td>\n",
       "      <td>11688</td>\n",
       "      <td>2023</td>\n",
       "      <td>3</td>\n",
       "      <td>6</td>\n",
       "    </tr>\n",
       "    <tr>\n",
       "      <th>452087</th>\n",
       "      <td>2023-03-06</td>\n",
       "      <td>Monday</td>\n",
       "      <td>Vistara</td>\n",
       "      <td>UK-946</td>\n",
       "      <td>Business</td>\n",
       "      <td>Ahmedabad</td>\n",
       "      <td>6 AM - 12 PM</td>\n",
       "      <td>1-stop</td>\n",
       "      <td>After 6 PM</td>\n",
       "      <td>Chennai</td>\n",
       "      <td>11.1667</td>\n",
       "      <td>50</td>\n",
       "      <td>72980</td>\n",
       "      <td>2023</td>\n",
       "      <td>3</td>\n",
       "      <td>6</td>\n",
       "    </tr>\n",
       "  </tbody>\n",
       "</table>\n",
       "<p>12001 rows × 16 columns</p>\n",
       "</div>"
      ],
      "text/plain": [
       "       Date_of_journey Journey_day  Airline Flight_code            Class  \\\n",
       "19210       2023-01-16      Monday  Vistara      UK-627          Economy   \n",
       "129022      2023-01-16      Monday  Vistara      UK-853  Premium Economy   \n",
       "129023      2023-01-16      Monday  Vistara      UK-853  Premium Economy   \n",
       "129024      2023-01-16      Monday  Vistara      UK-853  Premium Economy   \n",
       "129025      2023-01-16      Monday  Vistara      UK-853  Premium Economy   \n",
       "...                ...         ...      ...         ...              ...   \n",
       "415131      2023-03-06      Monday  Vistara      UK-918  Premium Economy   \n",
       "415132      2023-03-06      Monday  Vistara      UK-918  Premium Economy   \n",
       "153847      2023-03-06      Monday  Vistara      UK-625  Premium Economy   \n",
       "337936      2023-03-06      Monday  Vistara      UK-772          Economy   \n",
       "452087      2023-03-06      Monday  Vistara      UK-946         Business   \n",
       "\n",
       "           Source     Departure Total_stops       Arrival Destination  \\\n",
       "19210       Delhi  12 PM - 6 PM     2+-stop    After 6 PM   Bangalore   \n",
       "129022     Mumbai  12 PM - 6 PM     2+-stop  6 AM - 12 PM     Kolkata   \n",
       "129023     Mumbai  12 PM - 6 PM     2+-stop  6 AM - 12 PM     Kolkata   \n",
       "129024     Mumbai  12 PM - 6 PM     2+-stop  6 AM - 12 PM     Kolkata   \n",
       "129025     Mumbai  12 PM - 6 PM     2+-stop    After 6 PM     Kolkata   \n",
       "...           ...           ...         ...           ...         ...   \n",
       "415131  Ahmedabad   Before 6 AM      1-stop    After 6 PM       Delhi   \n",
       "415132  Ahmedabad   Before 6 AM      1-stop    After 6 PM       Delhi   \n",
       "153847     Mumbai  6 AM - 12 PM     2+-stop    After 6 PM     Chennai   \n",
       "337936    Kolkata  6 AM - 12 PM      1-stop    After 6 PM   Hyderabad   \n",
       "452087  Ahmedabad  6 AM - 12 PM      1-stop    After 6 PM     Chennai   \n",
       "\n",
       "        Duration_in_hours  Days_left   Fare  Year  Month  Day  \n",
       "19210             29.9167          1  11117  2023      1   16  \n",
       "129022            17.5833          1  20792  2023      1   16  \n",
       "129023            17.5833          1  20792  2023      1   16  \n",
       "129024            17.5833          1  20792  2023      1   16  \n",
       "129025            26.0833          1  20792  2023      1   16  \n",
       "...                   ...        ...    ...   ...    ...  ...  \n",
       "415131            17.2500         50  13911  2023      3    6  \n",
       "415132            17.2500         50  13911  2023      3    6  \n",
       "153847            12.1667         50  16106  2023      3    6  \n",
       "337936            33.5833         50  11688  2023      3    6  \n",
       "452087            11.1667         50  72980  2023      3    6  \n",
       "\n",
       "[12001 rows x 16 columns]"
      ]
     },
     "execution_count": 5,
     "metadata": {},
     "output_type": "execute_result"
    }
   ],
   "source": [
    "#check for duplicates\n",
    "columns = ['Date_of_journey', 'Airline','Flight_code', 'Class', 'Source', 'Departure', 'Arrival', 'Destination', 'Duration_in_hours','Days_left', 'Fare']\n",
    "duplicates = df.duplicated(subset = columns, keep = False)\n",
    "df[duplicates].sort_values(by = 'Date_of_journey')"
   ]
  },
  {
   "cell_type": "code",
   "execution_count": 6,
   "id": "6e234276-988f-4e48-a8ea-0654b10cd88e",
   "metadata": {},
   "outputs": [
    {
     "name": "stdout",
     "output_type": "stream",
     "text": [
      "  Date_of_journey Journey_day    Airline Flight_code    Class Source  \\\n",
      "0      2023-01-16      Monday   SpiceJet     SG-8169  Economy  Delhi   \n",
      "1      2023-01-16      Monday     Indigo     6E-2519  Economy  Delhi   \n",
      "2      2023-01-16      Monday   GO FIRST      G8-354  Economy  Delhi   \n",
      "3      2023-01-16      Monday   SpiceJet     SG-8709  Economy  Delhi   \n",
      "4      2023-01-16      Monday  Air India      AI-805  Economy  Delhi   \n",
      "5      2023-01-16      Monday  Air India      AI-605  Economy  Delhi   \n",
      "6      2023-01-16      Monday  Air India      AI-814  Economy  Delhi   \n",
      "7      2023-01-16      Monday   GO FIRST      G8-330  Economy  Delhi   \n",
      "8      2023-01-16      Monday   SpiceJet     SG-2976  Economy  Delhi   \n",
      "9      2023-01-16      Monday   GO FIRST      G8-346  Economy  Delhi   \n",
      "\n",
      "    Departure Total_stops       Arrival Destination  Duration_in_hours  \\\n",
      "0  After 6 PM    non-stop    After 6 PM      Mumbai             2.0833   \n",
      "1  After 6 PM    non-stop   Before 6 AM      Mumbai             2.3333   \n",
      "2  After 6 PM    non-stop   Before 6 AM      Mumbai             2.1667   \n",
      "3  After 6 PM    non-stop    After 6 PM      Mumbai             2.0833   \n",
      "4  After 6 PM    non-stop    After 6 PM      Mumbai             2.1667   \n",
      "5  After 6 PM    non-stop    After 6 PM      Mumbai             2.2500   \n",
      "6  After 6 PM    non-stop   Before 6 AM      Mumbai             2.2500   \n",
      "7  After 6 PM    non-stop    After 6 PM      Mumbai             2.2500   \n",
      "8  After 6 PM      1-stop  6 AM - 12 PM      Mumbai            14.3333   \n",
      "9  After 6 PM    non-stop    After 6 PM      Mumbai             2.0833   \n",
      "\n",
      "   Days_left  Fare  Year  Month  Day  \n",
      "0          1  5335  2023      1   16  \n",
      "1          1  5899  2023      1   16  \n",
      "2          1  5801  2023      1   16  \n",
      "3          1  5794  2023      1   16  \n",
      "4          1  5955  2023      1   16  \n",
      "5          1  5955  2023      1   16  \n",
      "6          1  5955  2023      1   16  \n",
      "7          1  5899  2023      1   16  \n",
      "8          1  5829  2023      1   16  \n",
      "9          1  5899  2023      1   16  \n"
     ]
    }
   ],
   "source": [
    "#drop duplicates\n",
    "df2 = df.drop_duplicates(subset=columns, keep='first')\n",
    "print(df2.head(10))"
   ]
  },
  {
   "cell_type": "code",
   "execution_count": 7,
   "id": "8d0104f8-440e-4c8d-a9fb-52ec230695a2",
   "metadata": {},
   "outputs": [
    {
     "data": {
      "text/plain": [
       "count    445366.000000\n",
       "mean      22919.747165\n",
       "std       20394.214040\n",
       "min        1307.000000\n",
       "25%        8712.000000\n",
       "50%       13362.000000\n",
       "75%       36980.000000\n",
       "max      143019.000000\n",
       "Name: Fare, dtype: float64"
      ]
     },
     "execution_count": 7,
     "metadata": {},
     "output_type": "execute_result"
    }
   ],
   "source": [
    "df2['Fare'].describe()"
   ]
  },
  {
   "cell_type": "code",
   "execution_count": 8,
   "id": "b8736b8b-dad3-4de1-ab8a-10a0d192b4ea",
   "metadata": {},
   "outputs": [
    {
     "name": "stdout",
     "output_type": "stream",
     "text": [
      "Destination\n",
      "Ahmedabad    21447.474878\n",
      "Bangalore    22898.637920\n",
      "Chennai      23747.487242\n",
      "Delhi        21049.014735\n",
      "Hyderabad    22011.878057\n",
      "Kolkata      25269.254503\n",
      "Mumbai       24042.408901\n",
      "Name: Fare, dtype: float64\n"
     ]
    }
   ],
   "source": [
    "df_destination_fares = df2.groupby('Destination')['Fare'].mean()\n",
    "print(df_destination_fares)"
   ]
  },
  {
   "cell_type": "code",
   "execution_count": 9,
   "id": "c59121c5-6bd9-4c1f-8a92-02bef77b2c91",
   "metadata": {},
   "outputs": [
    {
     "name": "stdout",
     "output_type": "stream",
     "text": [
      "Destination\n",
      "Ahmedabad    13.161519\n",
      "Bangalore    11.929191\n",
      "Chennai      13.120642\n",
      "Delhi        10.819426\n",
      "Hyderabad    12.731954\n",
      "Kolkata      13.354535\n",
      "Mumbai       11.331538\n",
      "Name: Duration_in_hours, dtype: float64\n"
     ]
    }
   ],
   "source": [
    "df_destination_duration = df2.groupby('Destination')['Duration_in_hours'].mean()\n",
    "print(df_destination_duration)"
   ]
  },
  {
   "cell_type": "code",
   "execution_count": 10,
   "id": "6d52174c-be89-4554-8cad-9f75fbffbcd0",
   "metadata": {},
   "outputs": [
    {
     "name": "stdout",
     "output_type": "stream",
     "text": [
      "Destination\n",
      "Ahmedabad    25.579898\n",
      "Bangalore    25.526249\n",
      "Chennai      25.868489\n",
      "Delhi        24.912752\n",
      "Hyderabad    26.147454\n",
      "Kolkata      25.425456\n",
      "Mumbai       25.930921\n",
      "Name: Days_left, dtype: float64\n"
     ]
    }
   ],
   "source": [
    "df_destination_days = df2.groupby('Destination')['Days_left'].mean()\n",
    "print(df_destination_days)"
   ]
  },
  {
   "cell_type": "code",
   "execution_count": 11,
   "id": "6afaf7fb-be85-4b22-a6d5-c8f08c294461",
   "metadata": {},
   "outputs": [
    {
     "data": {
      "text/plain": [
       "Departure\n",
       "6 AM - 12 PM    181019\n",
       "After 6 PM      126749\n",
       "12 PM - 6 PM    114743\n",
       "Before 6 AM      22855\n",
       "Name: count, dtype: int64"
      ]
     },
     "execution_count": 11,
     "metadata": {},
     "output_type": "execute_result"
    }
   ],
   "source": [
    "#check columns for categorical values\n",
    "df2['Departure'].value_counts()"
   ]
  },
  {
   "cell_type": "code",
   "execution_count": 12,
   "id": "d7fea33c-0f7b-476f-b9bf-ef3444cb834f",
   "metadata": {},
   "outputs": [
    {
     "data": {
      "text/plain": [
       "Arrival\n",
       "After 6 PM      196972\n",
       "6 AM - 12 PM    117665\n",
       "12 PM - 6 PM    100322\n",
       "Before 6 AM      30407\n",
       "Name: count, dtype: int64"
      ]
     },
     "execution_count": 12,
     "metadata": {},
     "output_type": "execute_result"
    }
   ],
   "source": [
    "df2['Arrival'].value_counts()"
   ]
  },
  {
   "cell_type": "code",
   "execution_count": 13,
   "id": "15fc9098-924f-44a3-9bca-459ea6d8d147",
   "metadata": {},
   "outputs": [
    {
     "data": {
      "text/plain": [
       "Total_stops\n",
       "1-stop      366527\n",
       "non-stop     51755\n",
       "2+-stop      27084\n",
       "Name: count, dtype: int64"
      ]
     },
     "execution_count": 13,
     "metadata": {},
     "output_type": "execute_result"
    }
   ],
   "source": [
    "df2['Total_stops'].value_counts()"
   ]
  },
  {
   "cell_type": "code",
   "execution_count": 14,
   "id": "1c5192c7-364d-4889-b38e-86600165d2dd",
   "metadata": {},
   "outputs": [
    {
     "data": {
      "text/plain": [
       "count    445366.000000\n",
       "mean         25.617822\n",
       "std          14.302610\n",
       "min           1.000000\n",
       "25%          13.000000\n",
       "50%          26.000000\n",
       "75%          38.000000\n",
       "max          50.000000\n",
       "Name: Days_left, dtype: float64"
      ]
     },
     "execution_count": 14,
     "metadata": {},
     "output_type": "execute_result"
    }
   ],
   "source": [
    "df2['Days_left'].describe()"
   ]
  },
  {
   "cell_type": "code",
   "execution_count": 15,
   "id": "4d45a727-ffff-4941-8291-fbc444c63617",
   "metadata": {},
   "outputs": [
    {
     "name": "stdout",
     "output_type": "stream",
     "text": [
      "       Date_of_journey Journey_day  Airline Flight_code     Class     Source  \\\n",
      "357         2023-01-16      Monday  Vistara      UK-833  Business      Delhi   \n",
      "358         2023-01-16      Monday  Vistara      UK-811  Business      Delhi   \n",
      "359         2023-01-16      Monday  Vistara      UK-835  Business      Delhi   \n",
      "360         2023-01-16      Monday  Vistara      UK-837  Business      Delhi   \n",
      "361         2023-01-16      Monday  Vistara      UK-801  Business      Delhi   \n",
      "...                ...         ...      ...         ...       ...        ...   \n",
      "451334      2023-03-01   Wednesday  Vistara      UK-918  Business  Ahmedabad   \n",
      "451503      2023-03-02    Thursday  Vistara      UK-946  Business  Ahmedabad   \n",
      "451607      2023-03-03      Friday  Vistara      UK-946  Business  Ahmedabad   \n",
      "451608      2023-03-03      Friday  Vistara      UK-918  Business  Ahmedabad   \n",
      "451918      2023-03-05      Sunday  Vistara      UK-946  Business  Ahmedabad   \n",
      "\n",
      "           Departure Total_stops       Arrival Destination  Duration_in_hours  \\\n",
      "357     6 AM - 12 PM      1-stop  12 PM - 6 PM      Mumbai             6.8333   \n",
      "358      Before 6 AM      1-stop    After 6 PM      Mumbai            14.6667   \n",
      "359       After 6 PM      1-stop  6 AM - 12 PM      Mumbai            12.8333   \n",
      "360     12 PM - 6 PM      1-stop  6 AM - 12 PM      Mumbai            15.4167   \n",
      "361     6 AM - 12 PM      1-stop    After 6 PM      Mumbai            14.2500   \n",
      "...              ...         ...           ...         ...                ...   \n",
      "451334   Before 6 AM      1-stop  12 PM - 6 PM     Chennai            11.2500   \n",
      "451503  6 AM - 12 PM      1-stop    After 6 PM     Chennai            11.1667   \n",
      "451607  6 AM - 12 PM      1-stop    After 6 PM     Chennai            11.1667   \n",
      "451608   Before 6 AM      1-stop  12 PM - 6 PM     Chennai            11.2500   \n",
      "451918  6 AM - 12 PM      1-stop    After 6 PM     Chennai            11.1667   \n",
      "\n",
      "        Days_left   Fare  Year  Month  Day  \n",
      "357             1  80761  2023      1   16  \n",
      "358             1  82010  2023      1   16  \n",
      "359             1  87481  2023      1   16  \n",
      "360             1  87481  2023      1   16  \n",
      "361             1  87627  2023      1   16  \n",
      "...           ...    ...   ...    ...  ...  \n",
      "451334         45  96011  2023      3    1  \n",
      "451503         46  80148  2023      3    2  \n",
      "451607         47  80148  2023      3    3  \n",
      "451608         47  80678  2023      3    3  \n",
      "451918         49  91572  2023      3    5  \n",
      "\n",
      "[10425 rows x 16 columns]\n"
     ]
    }
   ],
   "source": [
    "#check for outliers\n",
    "numerical_columns = df2[['Duration_in_hours','Days_left', 'Fare']]\n",
    "Q1 = numerical_columns.quantile(0.25)\n",
    "Q3 = numerical_columns.quantile(0.75)\n",
    "IQR = Q3 - Q1\n",
    "\n",
    "# Define upper and lower bounds\n",
    "upper_bound = Q3 + 1.5 * IQR\n",
    "lower_bound = Q1 - 1.5 * IQR\n",
    "\n",
    "# Identify outliers\n",
    "outliers = (numerical_columns < lower_bound) | (numerical_columns > upper_bound)\n",
    "outliers2 = df2[outliers.any(axis=1)]\n",
    "print(outliers2)"
   ]
  },
  {
   "cell_type": "code",
   "execution_count": 16,
   "id": "5cf00751-9778-496d-b287-508133932abc",
   "metadata": {},
   "outputs": [
    {
     "data": {
      "image/png": "[encoded data removed]",
      "text/plain": [
       "<Figure size 640x480 with 1 Axes>"
      ]
     },
     "metadata": {},
     "output_type": "display_data"
    }
   ],
   "source": [
    "#visually check for outliers and how they effect the data\n",
    "plt.hist(df2['Fare'], bins = 20)\n",
    "plt.xlabel('Fare')\n",
    "plt.show()"
   ]
  },
  {
   "cell_type": "code",
   "execution_count": 35,
   "id": "cf1e6ee3-8a84-4cca-89be-2bdf7bfdcb82",
   "metadata": {},
   "outputs": [],
   "source": [
    "#Data was downloaded from Kaggle.com and came mostly cleaned. The info that is given by the data shows that most of the data is categorical and of object type while\n",
    "#only 3 of them were of numerical type (int or float). The data was further digested by breaking down the dates to year, month, and day and putting those into their own\n",
    "#columns. Then, the data was checked for duplicates; there were a few so those that were detected were dropped from the dataset. To further understand some of the data\n",
    "#the mean was found for fare, days_left, and duration grouped by destination. This showed that the averages were pretty similar for most destinations. Value_counts() was\n",
    "#used on some of the categorical features to understand how many and what are the different categories. Finally we checked for outliers, it is understood from this phase\n",
    "#in the project that the there are many outliers and they are normal and due to variation in prices, this results in a histogram with right-skewed data. Moving forward \n",
    "#we will keep an eye on how the outliers effect the data."
   ]
  }
 ],
 "metadata": {
  "kernelspec": {
   "display_name": "Python 3 (ipykernel)",
   "language": "python",
   "name": "python3"
  },
  "language_info": {
   "codemirror_mode": {
    "name": "ipython",
    "version": 3
   },
   "file_extension": ".py",
   "mimetype": "text/x-python",
   "name": "python",
   "nbconvert_exporter": "python",
   "pygments_lexer": "ipython3",
   "version": "3.9.19"
  }
 },
 "nbformat": 4,
 "nbformat_minor": 5
}
